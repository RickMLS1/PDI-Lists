{
  "nbformat": 4,
  "nbformat_minor": 0,
  "metadata": {
    "colab": {
      "provenance": [],
      "collapsed_sections": [
        "aVY2pKzafrr-",
        "-kxq6OF4fgM-"
      ]
    },
    "kernelspec": {
      "name": "python3",
      "display_name": "Python 3"
    },
    "language_info": {
      "name": "python"
    }
  },
  "cells": [
    {
      "cell_type": "markdown",
      "source": [
        "# **NumPy Array**"
      ],
      "metadata": {
        "id": "aVY2pKzafrr-"
      }
    },
    {
      "cell_type": "code",
      "execution_count": 2,
      "metadata": {
        "colab": {
          "base_uri": "https://localhost:8080/"
        },
        "id": "uUwBlqIV2K-R",
        "outputId": "70a87bf1-edbd-4434-d0cd-9f728e7375f3"
      },
      "outputs": [
        {
          "output_type": "stream",
          "name": "stdout",
          "text": [
            "Empty Array\n",
            "[                  0 4602678819172646912 4607182418800017408]\n",
            "\n",
            "Null_array: [nan nan nan]\n",
            "\n",
            "Full Array\n",
            "[55 55 55]\n"
          ]
        }
      ],
      "source": [
        "import numpy as np\n",
        "\n",
        "\n",
        "# Create an empty array\n",
        "empa = np.empty((3), dtype=int)\n",
        "print(\"Empty Array\")\n",
        "print(empa)\n",
        "\n",
        "\n",
        "# Create an null array\n",
        "null_array = np.empty(3)\n",
        "null_array.fill(None)\n",
        "print(\"\\nNull_array:\", null_array)\n",
        "\n",
        "# Create a full array\n",
        "flla = np.full([3], 55, dtype=int)\n",
        "print(\"\\nFull Array\")\n",
        "print(flla)\n"
      ]
    },
    {
      "cell_type": "code",
      "source": [
        "# Create a array filled with all zeros\n",
        "\n",
        "flla = np.full([3], 0) # flla = np.zeros(3)\n",
        "print(\"Full Array with zeros\")\n",
        "print(flla)"
      ],
      "metadata": {
        "colab": {
          "base_uri": "https://localhost:8080/"
        },
        "id": "HlSwmv0e4IbY",
        "outputId": "42d287a8-eb52-45c3-fa42-10d384f8aa79"
      },
      "execution_count": null,
      "outputs": [
        {
          "output_type": "stream",
          "name": "stdout",
          "text": [
            "Full Array with zeros\n",
            "[0 0 0]\n"
          ]
        }
      ]
    },
    {
      "cell_type": "code",
      "source": [
        "# Create a array filled with all ones\n",
        "\n",
        "flla = np.full([3], 1) # flla = np.ones(3)\n",
        "print(\"Full Array with ones\")\n",
        "print(flla)"
      ],
      "metadata": {
        "colab": {
          "base_uri": "https://localhost:8080/"
        },
        "id": "_wD2rspi5ocJ",
        "outputId": "a5dcb008-bfad-4dc8-a87f-2265a9d13aa8"
      },
      "execution_count": null,
      "outputs": [
        {
          "output_type": "stream",
          "name": "stdout",
          "text": [
            "Full Array with ones\n",
            "[1 1 1]\n"
          ]
        }
      ]
    },
    {
      "cell_type": "code",
      "source": [
        "# Check whether a Numpy array contains a specified row\n",
        "\n",
        "flla = np.array([[12, 10, 11], [1, 2, 3], [5, 6, 7]])\n",
        "print(\"\\nFull Array\")\n",
        "print(flla)\n",
        "\n",
        "search = np.array([12, 10, 11]) # Here you search\n",
        "search in flla"
      ],
      "metadata": {
        "colab": {
          "base_uri": "https://localhost:8080/"
        },
        "id": "WMf6HEdc6yla",
        "outputId": "a5196b7e-4c51-41b9-eeb8-dbfddcaa56ba"
      },
      "execution_count": null,
      "outputs": [
        {
          "output_type": "stream",
          "name": "stdout",
          "text": [
            "\n",
            "Full Array\n",
            "[[12 10 11]\n",
            " [ 1  2  3]\n",
            " [ 5  6  7]]\n"
          ]
        },
        {
          "output_type": "execute_result",
          "data": {
            "text/plain": [
              "True"
            ]
          },
          "metadata": {},
          "execution_count": 51
        }
      ]
    },
    {
      "cell_type": "code",
      "source": [
        "# How to Remove rows in Numpy array that contains non-numeric values?\n",
        "\n",
        "a = np.array([[1,2,3], [4,5,np.nan], [7,8,9]])\n",
        "print(a)\n",
        "\n",
        "print('\\nLinha não numerica retirada')\n",
        "print(a[~np.isnan(a).any(axis=1)]) # non-numeric values remmoved"
      ],
      "metadata": {
        "colab": {
          "base_uri": "https://localhost:8080/"
        },
        "id": "SGy7G1MNAo_i",
        "outputId": "3a76e194-d1f9-4724-82b6-9e140947ffc6"
      },
      "execution_count": null,
      "outputs": [
        {
          "output_type": "stream",
          "name": "stdout",
          "text": [
            "[[ 1.  2.  3.]\n",
            " [ 4.  5. nan]\n",
            " [ 7.  8.  9.]]\n",
            "\n",
            "Linha não numerica retirada\n",
            "[[1. 2. 3.]\n",
            " [7. 8. 9.]]\n"
          ]
        }
      ]
    },
    {
      "cell_type": "code",
      "source": [
        "# Remove single-dimensional entries from the shape of an array\n",
        "\n",
        "a = np.array([[0, 2, 4]])\n",
        "print('antes\\n', a)\n",
        "\n",
        "b = np.squeeze(a)\n",
        "print('depois\\n', b)"
      ],
      "metadata": {
        "colab": {
          "base_uri": "https://localhost:8080/"
        },
        "id": "dLSS9WbqEiam",
        "outputId": "88d0bdd0-24da-4ffd-c11e-8e176c5664be"
      },
      "execution_count": null,
      "outputs": [
        {
          "output_type": "stream",
          "name": "stdout",
          "text": [
            "antes\n",
            " [[0 2 4]]\n",
            "depois\n",
            " [0 2 4]\n"
          ]
        }
      ]
    },
    {
      "cell_type": "code",
      "source": [
        "# Find the number of occurrences of a sequence in a NumPy array\n",
        "\n",
        "# create numpy array\n",
        "arr = np.array([[2, 8, 9, 4],\n",
        "\t\t\t\t[9, 4, 9, 4],\n",
        "\t\t\t\t[4, 5, 9, 7],\n",
        "\t\t\t\t[2, 9, 4, 3]])\n",
        "\n",
        "# Counting sequence\n",
        "output = repr(arr).count(\"2, 9, 4\")\n",
        "\n",
        "# view output\n",
        "print(output)\n"
      ],
      "metadata": {
        "colab": {
          "base_uri": "https://localhost:8080/"
        },
        "id": "pZB-j1fBIKhY",
        "outputId": "17b55033-8aaa-42c5-ab0a-cfe98ef13c33"
      },
      "execution_count": null,
      "outputs": [
        {
          "output_type": "stream",
          "name": "stdout",
          "text": [
            "0\n"
          ]
        }
      ]
    },
    {
      "cell_type": "code",
      "source": [
        "# Find the most frequent value in a NumPy array\n",
        "\n",
        "a = np.array([1,2,3,1,2,1,1,1,3,2,2,1])\n",
        "\n",
        "counts = np.bincount(a)\n",
        "print('O termo mais frequente é: ', np.argmax(counts))"
      ],
      "metadata": {
        "colab": {
          "base_uri": "https://localhost:8080/"
        },
        "id": "6kPK8kVpJbEM",
        "outputId": "a16ad6cd-cabd-46b6-a0fc-18fd322918dc"
      },
      "execution_count": null,
      "outputs": [
        {
          "output_type": "stream",
          "name": "stdout",
          "text": [
            "O termo mais frequente é:  1\n"
          ]
        }
      ]
    },
    {
      "cell_type": "code",
      "source": [
        "# Combining a one and a two-dimensional NumPy Array\n",
        "\n",
        "num_1d = np.arange(5)\n",
        "print(\"One dimensional array:\")\n",
        "print(num_1d)\n",
        "\n",
        "num_2d = np.arange(10).reshape(2,5)\n",
        "print(\"\\nTwo dimensional array:\")\n",
        "print(num_2d)\n",
        "\n",
        "# Combine 1-D and 2-D arrays and display\n",
        "# their elements using numpy.nditer()\n",
        "for a, b in np.nditer([num_1d, num_2d]):\n",
        "    print(\"%d:%d\" % (a, b),)"
      ],
      "metadata": {
        "colab": {
          "base_uri": "https://localhost:8080/"
        },
        "id": "S4GnMYZZKQZ7",
        "outputId": "8f87f5dd-c75c-4c3e-e410-97df9956859b"
      },
      "execution_count": null,
      "outputs": [
        {
          "output_type": "stream",
          "name": "stdout",
          "text": [
            "One dimensional array:\n",
            "[0 1 2 3 4]\n",
            "\n",
            "Two dimensional array:\n",
            "[[0 1 2 3 4]\n",
            " [5 6 7 8 9]]\n",
            "0:0\n",
            "1:1\n",
            "2:2\n",
            "3:3\n",
            "4:4\n",
            "0:5\n",
            "1:6\n",
            "2:7\n",
            "3:8\n",
            "4:9\n"
          ]
        }
      ]
    },
    {
      "cell_type": "code",
      "source": [
        "# How to build an array of all combinations of two NumPy arrays?\n",
        "\n",
        "# creating 2 numpy arrays\n",
        "array_1 = np.array([1, 2])\n",
        "array_2 = np.array([4, 6])\n",
        "\n",
        "print(\"Array-1\")\n",
        "print(array_1)\n",
        "\n",
        "print(\"\\nArray-2\")\n",
        "print(array_2)\n",
        "\n",
        "# combination of elements of array_1 and array_2\n",
        "# using numpy.meshgrid().T.reshape()\n",
        "comb_array = np.array(np.meshgrid(array_1, array_2)).T.reshape(-1, 2)\n",
        "\n",
        "print(\"\\nCombine array:\")\n",
        "print(comb_array)"
      ],
      "metadata": {
        "colab": {
          "base_uri": "https://localhost:8080/"
        },
        "id": "RLPZ2bnxLh2f",
        "outputId": "b8035c36-7ed8-46a0-bb62-78bf9b5c6358"
      },
      "execution_count": null,
      "outputs": [
        {
          "output_type": "stream",
          "name": "stdout",
          "text": [
            "Array-1\n",
            "[1 2]\n",
            "\n",
            "Array-2\n",
            "[4 6]\n",
            "\n",
            "Combine array:\n",
            "[[1 4]\n",
            " [1 6]\n",
            " [2 4]\n",
            " [2 6]]\n"
          ]
        }
      ]
    },
    {
      "cell_type": "code",
      "source": [
        "# How to add a border around a NumPy array?\n",
        "\n",
        "# Creating a 2X2 Numpy matrix\n",
        "array = np.ones((2, 2))\n",
        "\n",
        "print(\"Original array\")\n",
        "print(array)\n",
        "\n",
        "print(\"\\n0 on the border and 1 inside the array\")\n",
        "\n",
        "# constructing border of 0 around 2D identity matrix\n",
        "# using np.pad()\n",
        "array = np.pad(array, pad_width=1, mode='constant',\n",
        "               constant_values=0)\n",
        "\n",
        "print(array)"
      ],
      "metadata": {
        "colab": {
          "base_uri": "https://localhost:8080/"
        },
        "id": "vyFwH4_ALjg7",
        "outputId": "516d4822-a265-4726-86b5-d59618445c15"
      },
      "execution_count": null,
      "outputs": [
        {
          "output_type": "stream",
          "name": "stdout",
          "text": [
            "Original array\n",
            "[[1. 1.]\n",
            " [1. 1.]]\n",
            "\n",
            "0 on the border and 1 inside the array\n",
            "[[0. 0. 0. 0.]\n",
            " [0. 1. 1. 0.]\n",
            " [0. 1. 1. 0.]\n",
            " [0. 0. 0. 0.]]\n"
          ]
        }
      ]
    },
    {
      "cell_type": "code",
      "source": [
        "# How to compare two NumPy arrays?\n",
        "\n",
        "a = np.array([101, 99, 87])\n",
        "b = np.array([897, 97, 111])\n",
        "\n",
        "print(\"Array a: \", a)\n",
        "print(\"Array b: \", b)\n",
        "\n",
        "print(\"a > b\")\n",
        "print(np.greater(a, b))\n",
        "\n",
        "print(\"a >= b\")\n",
        "print(np.greater_equal(a, b))\n",
        "\n",
        "print(\"a < b\")\n",
        "print(np.less(a, b))\n",
        "\n",
        "print(\"a <= b\")\n",
        "print(np.less_equal(a, b))\n",
        "\n",
        "print('\\n--------------\\n')\n",
        "\n",
        "# Comparing the arrays\n",
        "\n",
        "arr1 = np.array([[1, 3], [2, 4]])\n",
        "arr2 = np.array([[1, 2], [3, 4]])\n",
        "\n",
        "if np.array_equal(arr1, arr2):\n",
        "    print(\"Equal\")\n",
        "else:\n",
        "    print(\"Not Equal\")\n"
      ],
      "metadata": {
        "colab": {
          "base_uri": "https://localhost:8080/"
        },
        "id": "56D9xcKOMp7C",
        "outputId": "aecaf135-d533-4cca-8a3e-0c0c7905bdf9"
      },
      "execution_count": null,
      "outputs": [
        {
          "output_type": "stream",
          "name": "stdout",
          "text": [
            "Array a:  [101  99  87]\n",
            "Array b:  [897  97 111]\n",
            "a > b\n",
            "[False  True False]\n",
            "a >= b\n",
            "[False  True False]\n",
            "a < b\n",
            "[ True False  True]\n",
            "a <= b\n",
            "[ True False  True]\n",
            "\n",
            "--------------\n",
            "\n",
            "Not Equal\n"
          ]
        }
      ]
    },
    {
      "cell_type": "code",
      "source": [
        "# How to check whether specified values are present in NumPy array?\n",
        "\n",
        "# creating a Numpy array\n",
        "n_array = np.array([[2, 3, 0],\n",
        "                    [4, 1, 6]])\n",
        "\n",
        "a = input(\"Qual valor busca? \")\n",
        "a = np.fromstring(a, dtype=int, sep=' ')\n",
        "\n",
        "values_find = np.intersect1d(n_array, a)\n",
        "\n",
        "print(\"Valores encontrados: \", values_find)"
      ],
      "metadata": {
        "colab": {
          "base_uri": "https://localhost:8080/"
        },
        "id": "PlCP-bFlN2_e",
        "outputId": "0bf66276-8875-482a-8c45-5a2e761d240b"
      },
      "execution_count": null,
      "outputs": [
        {
          "output_type": "stream",
          "name": "stdout",
          "text": [
            "Qual valor busca? 4 5 3 5\n",
            "Valores encontrados:  [3 4]\n"
          ]
        }
      ]
    },
    {
      "cell_type": "code",
      "source": [
        "# How to get all 2D diagonals of a 3D NumPy array?\n",
        "\n",
        "# Create 3D-numpy array\n",
        "# of 4 rows and 4 columns\n",
        "arr = np.arange(3 * 4 * 4).reshape(3, 4, 4)\n",
        "\n",
        "print(\"Original 3d array:\\n\",\n",
        "      arr)\n",
        "\n",
        "# Create 2D diagonal array\n",
        "diag_arr = np.diagonal(arr,\n",
        "                       axis1 = 1,\n",
        "                       axis2 = 2)\n",
        "\n",
        "print(\"\\n2d diagonal array:\\n\\n\",\n",
        "      diag_arr)"
      ],
      "metadata": {
        "colab": {
          "base_uri": "https://localhost:8080/"
        },
        "id": "bhRg9Gl4QKCv",
        "outputId": "d619223c-1fb9-473f-a94a-334d8d5dde3b"
      },
      "execution_count": null,
      "outputs": [
        {
          "output_type": "stream",
          "name": "stdout",
          "text": [
            "Original 3d array:\n",
            " [[[ 0  1  2  3]\n",
            "  [ 4  5  6  7]\n",
            "  [ 8  9 10 11]\n",
            "  [12 13 14 15]]\n",
            "\n",
            " [[16 17 18 19]\n",
            "  [20 21 22 23]\n",
            "  [24 25 26 27]\n",
            "  [28 29 30 31]]\n",
            "\n",
            " [[32 33 34 35]\n",
            "  [36 37 38 39]\n",
            "  [40 41 42 43]\n",
            "  [44 45 46 47]]]\n",
            "\n",
            "2d diagonal array:\n",
            "\n",
            " [[ 0  5 10 15]\n",
            " [16 21 26 31]\n",
            " [32 37 42 47]]\n"
          ]
        }
      ]
    },
    {
      "cell_type": "code",
      "source": [
        "# Flatten a Matrix in Python using NumPy\n",
        "\n",
        "# declare matrix with np\n",
        "gfg = np.array([[2, 3], [4, 5]])\n",
        "\n",
        "# using array.flatten() method\n",
        "flat_gfg = gfg.flatten()\n",
        "print(flat_gfg)\n"
      ],
      "metadata": {
        "colab": {
          "base_uri": "https://localhost:8080/"
        },
        "id": "owtC5DsSRcC8",
        "outputId": "fde9eb00-7d4c-48c3-f2fb-b0e740717978"
      },
      "execution_count": null,
      "outputs": [
        {
          "output_type": "stream",
          "name": "stdout",
          "text": [
            "[2 3 4 5]\n"
          ]
        }
      ]
    },
    {
      "cell_type": "code",
      "source": [
        "# Flatten a 2d numpy array into 1d array\n",
        "\n",
        "ini_array1 = np.array([[1, 2, 3], [2, 4, 5], [1, 2, 3]])\n",
        "\n",
        "# printing initial arrays\n",
        "print(\"Array inicial\\n\", str(ini_array1))\n",
        "\n",
        "# Multiplying arrays\n",
        "result = ini_array1.flatten()\n",
        "\n",
        "# printing result\n",
        "print(\"\\nArray resultante: \", result)"
      ],
      "metadata": {
        "colab": {
          "base_uri": "https://localhost:8080/"
        },
        "id": "99r03PPpRuUw",
        "outputId": "7a013f02-0c9d-447a-e57b-1434b3361f50"
      },
      "execution_count": null,
      "outputs": [
        {
          "output_type": "stream",
          "name": "stdout",
          "text": [
            "Array inicial\n",
            " [[1 2 3]\n",
            " [2 4 5]\n",
            " [1 2 3]]\n",
            "\n",
            "Array resultante:  [1 2 3 2 4 5 1 2 3]\n"
          ]
        }
      ]
    },
    {
      "cell_type": "code",
      "source": [
        "# Move axes of an array to new positions\n",
        "\n",
        "a = np.array([[101, 99, 87], [0, 1, 2]])\n",
        "b = np.moveaxis(a, 0, -1)\n",
        "\n",
        "print('Eixo movidos\\n', b)"
      ],
      "metadata": {
        "colab": {
          "base_uri": "https://localhost:8080/"
        },
        "id": "zSZ_wzB_SJBV",
        "outputId": "2b9c4191-a4e8-40e3-81dc-5296abd503ab"
      },
      "execution_count": null,
      "outputs": [
        {
          "output_type": "stream",
          "name": "stdout",
          "text": [
            "Eixo movidos\n",
            " [[101   0]\n",
            " [ 99   1]\n",
            " [ 87   2]]\n"
          ]
        }
      ]
    },
    {
      "cell_type": "code",
      "source": [
        "# Interchange two axes of an array\n",
        "\n",
        "a = np.array([[101, 99, 87], [0, 1, 2], [4, 5, 6]])\n",
        "\n",
        "b = np.swapaxes(a, 1, 0)\n",
        "\n",
        "print (b)"
      ],
      "metadata": {
        "colab": {
          "base_uri": "https://localhost:8080/"
        },
        "id": "4XyOmiChVVPh",
        "outputId": "4358960b-e55c-43b5-943f-fed7f8621f7a"
      },
      "execution_count": null,
      "outputs": [
        {
          "output_type": "stream",
          "name": "stdout",
          "text": [
            "[[101   0   4]\n",
            " [ 99   1   5]\n",
            " [ 87   2   6]]\n"
          ]
        }
      ]
    },
    {
      "cell_type": "code",
      "source": [
        "# NumPy – Fibonacci Series using Binet Formula\n",
        "\n",
        "# Criando array com 10 elementos\n",
        "# Para conseguir os 10 primemiro termos\n",
        "a = np.arange(1, 11)\n",
        "lengthA = len(a)\n",
        "\n",
        "sqrtFive = np.sqrt(5)\n",
        "alpha = (1 + sqrtFive) / 2\n",
        "beta = (1 - sqrtFive) / 2\n",
        "\n",
        "# Implementacao da formula\n",
        "Fn = np.rint(((alpha ** a) - (beta ** a)) / (sqrtFive))\n",
        "print(\"Os primeiros {} numeros da seria de Fibonacci {}. \".format(lengthA, Fn))"
      ],
      "metadata": {
        "colab": {
          "base_uri": "https://localhost:8080/"
        },
        "id": "o9R5uMEaXBkV",
        "outputId": "929478e8-6641-458c-8ee8-505a0e693a72"
      },
      "execution_count": null,
      "outputs": [
        {
          "output_type": "stream",
          "name": "stdout",
          "text": [
            "Os primeiros 10 numeros da seria de Fibonacci [ 1.  1.  2.  3.  5.  8. 13. 21. 34. 55.]. \n"
          ]
        }
      ]
    },
    {
      "cell_type": "code",
      "source": [
        "# Counts the number of non-zero values in the array\n",
        "\n",
        "a = [[0, 1, 2, 3, 0], [0, 5, 0, 0, 7]]\n",
        "\n",
        "b = np.count_nonzero(a)\n",
        "\n",
        "print (b)"
      ],
      "metadata": {
        "colab": {
          "base_uri": "https://localhost:8080/"
        },
        "id": "gDkG3ey_YTdS",
        "outputId": "f93e91ec-b88e-4303-a53b-ce72168b9cb6"
      },
      "execution_count": null,
      "outputs": [
        {
          "output_type": "stream",
          "name": "stdout",
          "text": [
            "5\n"
          ]
        }
      ]
    },
    {
      "cell_type": "code",
      "source": [
        "# Count the number of elements along a given axis\n",
        "\n",
        "a = np.array([[1,2,3],[4,5,6]])\n",
        "np.size(a)\n",
        "print(np.size(a,1))\n",
        "print(np.size(a,0))"
      ],
      "metadata": {
        "colab": {
          "base_uri": "https://localhost:8080/"
        },
        "id": "p96IACGaYpAo",
        "outputId": "cc09039b-aa80-4988-ec3a-ac7a0eeab784"
      },
      "execution_count": null,
      "outputs": [
        {
          "output_type": "stream",
          "name": "stdout",
          "text": [
            "3\n",
            "2\n"
          ]
        }
      ]
    },
    {
      "cell_type": "code",
      "source": [
        "# Trim the leading and/or trailing zeros from a 1-D array\n",
        "\n",
        "a = np.array((0, 0, 0, 0, 1, 5, 7, 0, 6, 2, 9, 0, 10, 0, 0))\n",
        "\n",
        "# retorna o array sem os zeros a esquerda e direita\n",
        "\n",
        "res = np.trim_zeros(a)\n",
        "print(res)"
      ],
      "metadata": {
        "colab": {
          "base_uri": "https://localhost:8080/"
        },
        "id": "4uSq64_MaIUn",
        "outputId": "27874d9d-52d5-4f7f-92dd-dac5228b80f0"
      },
      "execution_count": null,
      "outputs": [
        {
          "output_type": "stream",
          "name": "stdout",
          "text": [
            "[ 1  5  7  0  6  2  9  0 10]\n"
          ]
        }
      ]
    },
    {
      "cell_type": "code",
      "source": [
        "# Change data type of given numpy array\n",
        "\n",
        "a = np.array([10, 20, 30, 40, 50])\n",
        "\n",
        "print(a)\n",
        "\n",
        "# Printando o tipo\n",
        "print(a.dtype)\n",
        "\n",
        "# mudando o tipo para 'float64'\n",
        "arr = arr.astype('float64')\n",
        "\n",
        "# Printando o array depois da mudanca\n",
        "print(a)\n",
        "\n",
        "# Printando o novo tipo\n",
        "print(arr.dtype)"
      ],
      "metadata": {
        "colab": {
          "base_uri": "https://localhost:8080/"
        },
        "id": "QVrawFMcbIKx",
        "outputId": "da4b658b-8de7-403d-ef22-24dbae632abf"
      },
      "execution_count": null,
      "outputs": [
        {
          "output_type": "stream",
          "name": "stdout",
          "text": [
            "[10 20 30 40 50]\n",
            "int64\n",
            "[10 20 30 40 50]\n",
            "float64\n"
          ]
        }
      ]
    },
    {
      "cell_type": "code",
      "source": [
        "# Reverse a numpy array\n",
        "\n",
        "ini_array = np.array([1, 2, 3, 6, 4, 5])\n",
        "\n",
        "res = np.flip(ini_array)\n",
        "\n",
        "print(\"final array\", str(res))"
      ],
      "metadata": {
        "colab": {
          "base_uri": "https://localhost:8080/"
        },
        "id": "DEXBVvgQcmlU",
        "outputId": "16dd7281-192e-4ac1-aa31-a2210f8aa3a1"
      },
      "execution_count": null,
      "outputs": [
        {
          "output_type": "stream",
          "name": "stdout",
          "text": [
            "final array [5 4 6 3 2 1]\n"
          ]
        }
      ]
    },
    {
      "cell_type": "code",
      "source": [
        "# How to make a NumPy array read-only?\n",
        "\n",
        "a = np.zeros(11)\n",
        "print(\"Antes de qualquer mudança \")\n",
        "print(a)\n",
        "\n",
        "a[1] = 2\n",
        "print(\"Antes da primeira mudança \")\n",
        "print(a)\n",
        "\n",
        "a.setflags(write=False)\n",
        "print(\"Depois de tornar a matriz imutável ao tentar a segunda alteração \")\n",
        "a[1] = 7"
      ],
      "metadata": {
        "colab": {
          "base_uri": "https://localhost:8080/",
          "height": 287
        },
        "id": "49f2VEOvdH5s",
        "outputId": "794d105a-245b-4aed-b614-c4f64a763828"
      },
      "execution_count": null,
      "outputs": [
        {
          "output_type": "stream",
          "name": "stdout",
          "text": [
            "Antes de qualquer mudança \n",
            "[0. 0. 0. 0. 0. 0. 0. 0. 0. 0. 0.]\n",
            "Antes da primeira mudança \n",
            "[0. 2. 0. 0. 0. 0. 0. 0. 0. 0. 0.]\n",
            "Depois de tornar a matriz imutável ao tentar a segunda alteração \n"
          ]
        },
        {
          "output_type": "error",
          "ename": "ValueError",
          "evalue": "ignored",
          "traceback": [
            "\u001b[0;31m---------------------------------------------------------------------------\u001b[0m",
            "\u001b[0;31mValueError\u001b[0m                                Traceback (most recent call last)",
            "\u001b[0;32m<ipython-input-127-621ade25a797>\u001b[0m in \u001b[0;36m<cell line: 13>\u001b[0;34m()\u001b[0m\n\u001b[1;32m     11\u001b[0m \u001b[0ma\u001b[0m\u001b[0;34m.\u001b[0m\u001b[0msetflags\u001b[0m\u001b[0;34m(\u001b[0m\u001b[0mwrite\u001b[0m\u001b[0;34m=\u001b[0m\u001b[0;32mFalse\u001b[0m\u001b[0;34m)\u001b[0m\u001b[0;34m\u001b[0m\u001b[0;34m\u001b[0m\u001b[0m\n\u001b[1;32m     12\u001b[0m \u001b[0mprint\u001b[0m\u001b[0;34m(\u001b[0m\u001b[0;34m\"Depois de tornar a matriz imutável ao tentar a segunda alteração \"\u001b[0m\u001b[0;34m)\u001b[0m\u001b[0;34m\u001b[0m\u001b[0;34m\u001b[0m\u001b[0m\n\u001b[0;32m---> 13\u001b[0;31m \u001b[0ma\u001b[0m\u001b[0;34m[\u001b[0m\u001b[0;36m1\u001b[0m\u001b[0;34m]\u001b[0m \u001b[0;34m=\u001b[0m \u001b[0;36m7\u001b[0m\u001b[0;34m\u001b[0m\u001b[0;34m\u001b[0m\u001b[0m\n\u001b[0m",
            "\u001b[0;31mValueError\u001b[0m: assignment destination is read-only"
          ]
        }
      ]
    },
    {
      "cell_type": "markdown",
      "source": [
        "# **Questions on NumPy Matrix**"
      ],
      "metadata": {
        "id": "-kxq6OF4fgM-"
      }
    },
    {
      "cell_type": "code",
      "source": [
        "# Get the maximum value from given matrix\n",
        "\n",
        "a = np.matrix('[64, 1; 12, 3]')\n",
        "\n",
        "# applying matrix.max() method\n",
        "b = a.max()\n",
        "\n",
        "print(b)"
      ],
      "metadata": {
        "colab": {
          "base_uri": "https://localhost:8080/"
        },
        "id": "ydkFeDrlfnpK",
        "outputId": "051cee80-c53e-4639-c6bc-5dc6320a6b58"
      },
      "execution_count": null,
      "outputs": [
        {
          "output_type": "stream",
          "name": "stdout",
          "text": [
            "64\n"
          ]
        }
      ]
    },
    {
      "cell_type": "code",
      "source": [
        "# Get the minimum value from given matrix\n",
        "\n",
        "a = np.matrix('[64, 1; 12, 3]')\n",
        "\n",
        "# applying matrix.max() method\n",
        "b = a.min()\n",
        "\n",
        "print(b)"
      ],
      "metadata": {
        "colab": {
          "base_uri": "https://localhost:8080/"
        },
        "id": "o_CTChFMgX4X",
        "outputId": "c4961c22-c2e3-408c-cb57-1d83cb2cf3d9"
      },
      "execution_count": null,
      "outputs": [
        {
          "output_type": "stream",
          "name": "stdout",
          "text": [
            "1\n"
          ]
        }
      ]
    },
    {
      "cell_type": "code",
      "source": [
        "# Find the number of rows and columns of a given matrix using NumPy\n",
        "\n",
        "a= np.arange(1,10).reshape((3, 3))\n",
        "\n",
        "# Original matrix\n",
        "print(a)\n",
        "\n",
        "a= np.arange(1,10).reshape((3, 3))\n",
        "\n",
        "# Number of rows and columns of the said matrix\n",
        "print('Linhas, Colunas: ', a.shape)"
      ],
      "metadata": {
        "colab": {
          "base_uri": "https://localhost:8080/"
        },
        "id": "NgupmWbBglNP",
        "outputId": "26b8516a-bb05-4e07-ff74-8c507b28f8c9"
      },
      "execution_count": null,
      "outputs": [
        {
          "output_type": "stream",
          "name": "stdout",
          "text": [
            "[[1 2 3]\n",
            " [4 5 6]\n",
            " [7 8 9]]\n",
            "Linhas, Colunas:  (3, 3)\n"
          ]
        }
      ]
    },
    {
      "cell_type": "code",
      "source": [
        "# Select the elements from a given matrix\n",
        "\n",
        "a = np.matrix('[1, 2, 3, 4; 3, 1, 5, 6]')\n",
        "\n",
        "print(a)\n",
        "\n",
        "# applying matrix.choose() method\n",
        "b = np.choose([[1, 0, 1, 1], [0, 1, 0, 0]], a) # first element line one, second element line zero...\n",
        "\n",
        "print('\\n', b)"
      ],
      "metadata": {
        "colab": {
          "base_uri": "https://localhost:8080/"
        },
        "id": "M0qOfNP-ha3y",
        "outputId": "4244221c-8835-4165-8f33-d76f4288f584"
      },
      "execution_count": null,
      "outputs": [
        {
          "output_type": "stream",
          "name": "stdout",
          "text": [
            "[[1 2 3 4]\n",
            " [3 1 5 6]]\n",
            "\n",
            " [[3 2 5 6]\n",
            " [1 1 3 4]]\n"
          ]
        }
      ]
    },
    {
      "cell_type": "code",
      "source": [
        "# Find the sum of values in a matrix\n",
        "\n",
        "a = np.matrix('[4, 1; 12, 3]')\n",
        "\n",
        "print(a)\n",
        "# applying matrix.sum() method\n",
        "b = a.sum()\n",
        "\n",
        "print('\\n', b)"
      ],
      "metadata": {
        "colab": {
          "base_uri": "https://localhost:8080/"
        },
        "id": "O5Pnmv6Siqp3",
        "outputId": "ccd4eec5-4597-4f98-97e9-13fae7dad179"
      },
      "execution_count": null,
      "outputs": [
        {
          "output_type": "stream",
          "name": "stdout",
          "text": [
            "[[ 4  1]\n",
            " [12  3]]\n",
            "\n",
            " 20\n"
          ]
        }
      ]
    },
    {
      "cell_type": "code",
      "source": [
        "# Calculate the sum of the diagonal elements of a NumPy array\n",
        "\n",
        "a = np.array([[55, 25, 15],\n",
        "                    [30, 44, 2],\n",
        "                    [11, 45, 77]])\n",
        "\n",
        "print(a)\n",
        "\n",
        "# calculating the Trace of a matrix\n",
        "trace = np.trace(a)\n",
        "\n",
        "\n",
        "print(\"\\nResultado:\")\n",
        "print(trace)"
      ],
      "metadata": {
        "colab": {
          "base_uri": "https://localhost:8080/"
        },
        "id": "M10DUifdj0It",
        "outputId": "67c453d3-0c2d-4fd5-e122-43c2c0d5c247"
      },
      "execution_count": null,
      "outputs": [
        {
          "output_type": "stream",
          "name": "stdout",
          "text": [
            "[[55 25 15]\n",
            " [30 44  2]\n",
            " [11 45 77]]\n",
            "\n",
            "Resultado:\n",
            "176\n"
          ]
        }
      ]
    },
    {
      "cell_type": "code",
      "source": [
        "# Adding and Subtracting Matrices in Python\n",
        "\n",
        "a = np.array([[1, 2], [3, 4]])\n",
        "\n",
        "# creating second matrix\n",
        "b = np.array([[4, 5], [6, 7]])\n",
        "\n",
        "print(a)\n",
        "\n",
        "print('\\n', b)\n",
        "\n",
        "# adding two matrix\n",
        "print(\"\\nAdicao\")\n",
        "print(np.add(a, b))\n",
        "print(\"\\nSubtracao\")\n",
        "print(np.subtract(a, b))"
      ],
      "metadata": {
        "colab": {
          "base_uri": "https://localhost:8080/"
        },
        "id": "dmWQqQdqlI8i",
        "outputId": "f9c5f48e-302d-4e99-a430-9598d03314de"
      },
      "execution_count": null,
      "outputs": [
        {
          "output_type": "stream",
          "name": "stdout",
          "text": [
            "[[1 2]\n",
            " [3 4]]\n",
            "\n",
            " [[4 5]\n",
            " [6 7]]\n",
            "\n",
            "Adicao\n",
            "[[ 5  7]\n",
            " [ 9 11]]\n",
            "\n",
            "Subtracao\n",
            "[[-3 -3]\n",
            " [-3 -3]]\n"
          ]
        }
      ]
    },
    {
      "cell_type": "code",
      "source": [
        "# Ways to add row/columns in numpy array\n",
        "\n",
        "ini_array = np.array([[1, 2, 3], [45, 4, 7], [9, 6, 10]])\n",
        "\n",
        "print(str(ini_array));\n",
        "\n",
        "# Array to be added as column\n",
        "column_to_be_added = np.array([[1], [2], [3]])\n",
        "\n",
        "# Adding column to array using append() method\n",
        "arr = np.append(ini_array, column_to_be_added, axis=1)\n",
        "\n",
        "# printing result\n",
        "print (\"\\nresultant array\\n\", str(arr))"
      ],
      "metadata": {
        "colab": {
          "base_uri": "https://localhost:8080/"
        },
        "id": "idSBx0yVmFqA",
        "outputId": "5303ef53-1198-4ff5-89ad-5a048dddd8dd"
      },
      "execution_count": null,
      "outputs": [
        {
          "output_type": "stream",
          "name": "stdout",
          "text": [
            "[[ 1  2  3]\n",
            " [45  4  7]\n",
            " [ 9  6 10]]\n",
            "\n",
            "resultant array\n",
            " [[ 1  2  3  1]\n",
            " [45  4  7  2]\n",
            " [ 9  6 10  3]]\n"
          ]
        }
      ]
    },
    {
      "cell_type": "code",
      "source": [
        "# Matrix Multiplication in NumPy\n",
        "\n",
        "p = [[1, 2], [2, 3], [4, 5]]\n",
        "q = [[4, 5, 1], [6, 7, 2]]\n",
        "print(\"Matrix p :\")\n",
        "print(p)\n",
        "print(\"Matrix q :\")\n",
        "print(q)\n",
        "\n",
        "result = np.dot(p, q)\n",
        "\n",
        "# resultado\n",
        "print(\"Matrix de multiplicacao :\")\n",
        "print(result)"
      ],
      "metadata": {
        "colab": {
          "base_uri": "https://localhost:8080/"
        },
        "id": "bQrpcRWxVgaC",
        "outputId": "eab99542-d5cf-4bf2-a91d-3d65a8a34e58"
      },
      "execution_count": 3,
      "outputs": [
        {
          "output_type": "stream",
          "name": "stdout",
          "text": [
            "Matrix p :\n",
            "[[1, 2], [2, 3], [4, 5]]\n",
            "Matrix q :\n",
            "[[4, 5, 1], [6, 7, 2]]\n",
            "Matrix de multiplicacao :\n",
            "[[16 19  5]\n",
            " [26 31  8]\n",
            " [46 55 14]]\n"
          ]
        }
      ]
    },
    {
      "cell_type": "code",
      "source": [
        "# Get the eigen values of a matrix\n",
        "\n",
        "matrix = np.array([[7, 9],\n",
        "                   [6, 8]])\n",
        "\n",
        "eigen = np.linalg.eigvals(matrix)\n",
        "\n",
        "print(eigen)"
      ],
      "metadata": {
        "colab": {
          "base_uri": "https://localhost:8080/"
        },
        "id": "iAdw_d0lX7re",
        "outputId": "bd3d0506-d763-4fc9-e372-38768093727f"
      },
      "execution_count": 6,
      "outputs": [
        {
          "output_type": "stream",
          "name": "stdout",
          "text": [
            "[ 0.13454007 14.86545993]\n"
          ]
        }
      ]
    },
    {
      "cell_type": "code",
      "source": [
        "# How to Calculate the determinant of a matrix using NumPy?\n",
        "\n",
        "a = np.array([[50, 29], [30, 44]])\n",
        "\n",
        "print(\"Numpy Matrix is:\")\n",
        "print(a)\n",
        "\n",
        "# calculating the determinant of matrix\n",
        "det = np.linalg.det(a)\n",
        "\n",
        "print(\"\\nDeterminante da matrix:\")\n",
        "print(int(det))"
      ],
      "metadata": {
        "colab": {
          "base_uri": "https://localhost:8080/"
        },
        "id": "cISuRZCoYaWd",
        "outputId": "6b56d23e-bfc7-415e-8a22-1cc8721850db"
      },
      "execution_count": 7,
      "outputs": [
        {
          "output_type": "stream",
          "name": "stdout",
          "text": [
            "Numpy Matrix is:\n",
            "[[50 29]\n",
            " [30 44]]\n",
            "\n",
            "Determinante da matrix:\n",
            "1330\n"
          ]
        }
      ]
    },
    {
      "cell_type": "code",
      "source": [
        "# How to inverse a matrix using NumPy\n",
        "\n",
        "A = np.array([[6, 1, 1],\n",
        "              [4, -2, 5],\n",
        "              [2, 8, 7]])\n",
        "\n",
        "# Calculando o inverso\n",
        "print(np.linalg.inv(A))"
      ],
      "metadata": {
        "colab": {
          "base_uri": "https://localhost:8080/"
        },
        "id": "Wm33Ew0IYy-Y",
        "outputId": "016dca57-1b3f-4e81-d40d-5e7e1a1ae0fa"
      },
      "execution_count": 8,
      "outputs": [
        {
          "output_type": "stream",
          "name": "stdout",
          "text": [
            "[[ 0.17647059 -0.00326797 -0.02287582]\n",
            " [ 0.05882353 -0.13071895  0.08496732]\n",
            " [-0.11764706  0.1503268   0.05228758]]\n"
          ]
        }
      ]
    },
    {
      "cell_type": "code",
      "source": [
        "# How to count the frequency of unique values in NumPy array?\n",
        "\n",
        "a = np.array([10, 20, 5,\n",
        "                      10, 8, 20,\n",
        "                      8, 9])\n",
        "\n",
        "# Get a tuple of unique values\n",
        "# and their frequency in\n",
        "# numpy array\n",
        "unique, frequency = np.unique(a, return_counts = True)\n",
        "\n",
        "# print unique values array\n",
        "print(\"Unique Values:\", unique)\n",
        "\n",
        "# print frequency array\n",
        "print(\"Frequency Values:\", frequency)"
      ],
      "metadata": {
        "colab": {
          "base_uri": "https://localhost:8080/"
        },
        "id": "uabIflHIZDQu",
        "outputId": "0657437c-11c8-471b-8549-6bd5cce4fa3b"
      },
      "execution_count": 9,
      "outputs": [
        {
          "output_type": "stream",
          "name": "stdout",
          "text": [
            "Unique Values: [ 5  8  9 10 20]\n",
            "Frequency Values: [1 2 1 2 2]\n"
          ]
        }
      ]
    },
    {
      "cell_type": "code",
      "source": [
        "# Multiply matrices of complex numbers using NumPy in Python\n",
        "\n",
        "a = np.array([5+6j, 8+7j])\n",
        "print(\"Printing First matrix:\")\n",
        "print(a)\n",
        "\n",
        "b = np.array([3+5j, 2+9j])\n",
        "print(\"Printing Second matrix: \\n\")\n",
        "print(b)\n",
        "\n",
        "# vector dot product of two matrices\n",
        "c = np.vdot(a, b)\n",
        "print(\"Product of first and second matrices are:\")\n",
        "print(c)"
      ],
      "metadata": {
        "colab": {
          "base_uri": "https://localhost:8080/"
        },
        "id": "xTmNcmPzZjdy",
        "outputId": "6b7b79a9-941d-47ab-b1e4-ebd546836833"
      },
      "execution_count": 12,
      "outputs": [
        {
          "output_type": "stream",
          "name": "stdout",
          "text": [
            "Printing First matrix:\n",
            "[5.+6.j 8.+7.j]\n",
            "Printing Second matrix: \n",
            "\n",
            "[3.+5.j 2.+9.j]\n",
            "Product of first and second matrices are:\n",
            "(124+65j)\n"
          ]
        }
      ]
    },
    {
      "cell_type": "code",
      "source": [
        "# Compute the outer product of two given vectors using NumPy in Python\n",
        "\n",
        "matrix1 = np.array([[2, 8, 2], [3, 4, 8], [0, 2, 1]])\n",
        "matrix2 = np.array([[2, 1, 1], [0, 1, 0], [2, 3, 0]])\n",
        "print(\"Original 3-D matrix:\")\n",
        "print(matrix1)\n",
        "print(matrix2)\n",
        "\n",
        "print(\"Outer Product of the two matrix is:\")\n",
        "result = np.outer(matrix1, matrix2)\n",
        "print(result)"
      ],
      "metadata": {
        "colab": {
          "base_uri": "https://localhost:8080/"
        },
        "id": "sWqgBvDzaMLN",
        "outputId": "295ba7f9-380d-4d20-f904-4f2eee7944b6"
      },
      "execution_count": 13,
      "outputs": [
        {
          "output_type": "stream",
          "name": "stdout",
          "text": [
            "Original 3-D matrix:\n",
            "[[2 8 2]\n",
            " [3 4 8]\n",
            " [0 2 1]]\n",
            "[[2 1 1]\n",
            " [0 1 0]\n",
            " [2 3 0]]\n",
            "Outer Product of the two matrix is:\n",
            "[[ 4  2  2  0  2  0  4  6  0]\n",
            " [16  8  8  0  8  0 16 24  0]\n",
            " [ 4  2  2  0  2  0  4  6  0]\n",
            " [ 6  3  3  0  3  0  6  9  0]\n",
            " [ 8  4  4  0  4  0  8 12  0]\n",
            " [16  8  8  0  8  0 16 24  0]\n",
            " [ 0  0  0  0  0  0  0  0  0]\n",
            " [ 4  2  2  0  2  0  4  6  0]\n",
            " [ 2  1  1  0  1  0  2  3  0]]\n"
          ]
        }
      ]
    },
    {
      "cell_type": "code",
      "source": [
        "# Calculate inner, outer, and cross products of matrices and vectors using NumPy\n",
        "\n",
        "\n",
        "a = np.array([2, 6])\n",
        "b = np.array([3, 10])\n",
        "print(\"Vectors :\")\n",
        "print(\"a = \", a)\n",
        "print(\"\\nb = \", b)\n",
        "\n",
        "# Inner Product of Vectors\n",
        "print(\"\\nInner product of vectors a and b =\")\n",
        "print(np.inner(a, b))\n",
        "\n",
        "print(\"---------------------------------------\")\n",
        "\n",
        "# Matrices\n",
        "x = np.array([[2, 3, 4], [3, 2, 9]])\n",
        "y = np.array([[1, 5, 0], [5, 10, 3]])\n",
        "print(\"\\nMatrices :\")\n",
        "print(\"x =\", x)\n",
        "print(\"\\ny =\", y)\n",
        "\n",
        "# Inner product of matrices\n",
        "print(\"\\nInner product of matrices x and y =\")\n",
        "print(np.inner(x, y))\n",
        "\n",
        "# Outer product of matrices\n",
        "print(\"\\nOuter product of matrices x and y =\")\n",
        "print(np.outer(x, y))\n",
        "\n",
        "# Cross product of matrices\n",
        "print(\"\\nCross product of matrices x and y =\")\n",
        "print(np.cross(x, y))"
      ],
      "metadata": {
        "colab": {
          "base_uri": "https://localhost:8080/"
        },
        "id": "Z6Uoo8M2aijt",
        "outputId": "d818350f-c9aa-4937-9048-b54423203eb6"
      },
      "execution_count": 14,
      "outputs": [
        {
          "output_type": "stream",
          "name": "stdout",
          "text": [
            "Vectors :\n",
            "a =  [2 6]\n",
            "\n",
            "b =  [ 3 10]\n",
            "\n",
            "Inner product of vectors a and b =\n",
            "66\n",
            "---------------------------------------\n",
            "\n",
            "Matrices :\n",
            "x = [[2 3 4]\n",
            " [3 2 9]]\n",
            "\n",
            "y = [[ 1  5  0]\n",
            " [ 5 10  3]]\n",
            "\n",
            "Inner product of matrices x and y =\n",
            "[[17 52]\n",
            " [13 62]]\n",
            "\n",
            "Outer product of matrices x and y =\n",
            "[[ 2 10  0 10 20  6]\n",
            " [ 3 15  0 15 30  9]\n",
            " [ 4 20  0 20 40 12]\n",
            " [ 3 15  0 15 30  9]\n",
            " [ 2 10  0 10 20  6]\n",
            " [ 9 45  0 45 90 27]]\n",
            "\n",
            "Cross product of matrices x and y =\n",
            "[[-20   4   7]\n",
            " [-84  36  20]]\n"
          ]
        }
      ]
    },
    {
      "cell_type": "code",
      "source": [
        "# Compute the covariance matrix of two given NumPy arrays\n",
        "\n",
        "array1 = np.array([0, 1, 1])\n",
        "array2 = np.array([2, 2, 1])\n",
        "\n",
        "# Original array1\n",
        "print(array1)\n",
        "\n",
        "# Original array2\n",
        "print(array2)\n",
        "\n",
        "# Covariance matrix\n",
        "print(\"\\nCovariance matrix of the said arrays:\\n\",\n",
        "      np.cov(array1, array2))"
      ],
      "metadata": {
        "colab": {
          "base_uri": "https://localhost:8080/"
        },
        "id": "VU-RxMbIbJB9",
        "outputId": "c31e7382-9083-48f6-b963-210ad17b5751"
      },
      "execution_count": 15,
      "outputs": [
        {
          "output_type": "stream",
          "name": "stdout",
          "text": [
            "[0 1 1]\n",
            "[2 2 1]\n",
            "\n",
            "Covariance matrix of the said arrays:\n",
            " [[ 0.33333333 -0.16666667]\n",
            " [-0.16666667  0.33333333]]\n"
          ]
        }
      ]
    },
    {
      "cell_type": "code",
      "source": [
        "# Convert covariance matrix to correlation matrix using Python\n",
        "\n",
        "a = np.array([1, 2, 3, 4, 5])\n",
        "b = np.array([6, 7, 8, 9, 0])\n",
        "\n",
        "covariance_matrix = np.cov(a, b)\n",
        "correlation_matrix = np.corrcoef(covariance_matrix)\n",
        "print(correlation_matrix)\n"
      ],
      "metadata": {
        "colab": {
          "base_uri": "https://localhost:8080/"
        },
        "id": "pVtx9AXvbWy3",
        "outputId": "8a7046d1-62db-41ff-9deb-6762782750e0"
      },
      "execution_count": 19,
      "outputs": [
        {
          "output_type": "stream",
          "name": "stdout",
          "text": [
            "[[ 1. -1.]\n",
            " [-1.  1.]]\n"
          ]
        }
      ]
    },
    {
      "cell_type": "code",
      "source": [
        "# Compute the Kronecker product of two mulitdimension NumPy arrays\n",
        "\n",
        "a = np.array([[1, 2], [3, 4]])\n",
        "print('a:\\n', a)\n",
        "\n",
        "b = np.array([[5, 6], [7, 8]])\n",
        "print('\\nb:\\n', b)\n",
        "\n",
        "# Computing the Kronecker Product\n",
        "kroneckerProduct = np.kron(a, b)\n",
        "print('\\na ⊗ b:')\n",
        "print(kroneckerProduct)"
      ],
      "metadata": {
        "colab": {
          "base_uri": "https://localhost:8080/"
        },
        "id": "ugW3_Z9scUaQ",
        "outputId": "0def8e9e-6508-45ec-a867-c74f4b09ad2c"
      },
      "execution_count": 23,
      "outputs": [
        {
          "output_type": "stream",
          "name": "stdout",
          "text": [
            "a:\n",
            " [[1 2]\n",
            " [3 4]]\n",
            "\n",
            "b:\n",
            " [[5 6]\n",
            " [7 8]]\n",
            "\n",
            "a ⊗ b:\n",
            "[[ 5  6 10 12]\n",
            " [ 7  8 14 16]\n",
            " [15 18 20 24]\n",
            " [21 24 28 32]]\n"
          ]
        }
      ]
    },
    {
      "cell_type": "code",
      "source": [
        "# Convert the matrix into a list\n",
        "\n",
        "x = np.matrix([[1,2,3],\n",
        "               [7,1,3],\n",
        "               [9,4,3]])\n",
        "print('Matrix: \\n', x)\n",
        "\n",
        "print('List: \\n', x.tolist())\n"
      ],
      "metadata": {
        "colab": {
          "base_uri": "https://localhost:8080/"
        },
        "id": "xCWXM826c_Dy",
        "outputId": "338d7281-d1c3-4cec-8a85-450873f867af"
      },
      "execution_count": 29,
      "outputs": [
        {
          "output_type": "stream",
          "name": "stdout",
          "text": [
            "Matrix: \n",
            " [[1 2 3]\n",
            " [7 1 3]\n",
            " [9 4 3]]\n",
            "List: \n",
            " [[1, 2, 3], [7, 1, 3], [9, 4, 3]]\n"
          ]
        }
      ]
    },
    {
      "cell_type": "markdown",
      "source": [
        "# **Questions on NumPy Indexing**"
      ],
      "metadata": {
        "id": "kdRP832TdvIK"
      }
    },
    {
      "cell_type": "code",
      "source": [
        "# Replace NumPy array elements that doesn’t satisfy the given condition\n",
        "\n",
        "n_arr = np.array([75.42436315, 42.48558583, 60.32924763])\n",
        "print(\"Given array:\")\n",
        "print(n_arr)\n",
        "\n",
        "print(\"\\nReplace all elements of array which are greater than 50. to 15.50\")\n",
        "n_arr[n_arr < 50.] = 15.50\n",
        "\n",
        "print(\"New array :\\n\")\n",
        "print(n_arr)"
      ],
      "metadata": {
        "colab": {
          "base_uri": "https://localhost:8080/"
        },
        "id": "H91xrLeddzjD",
        "outputId": "ec967c26-2117-426c-d2a3-123e9ecb676b"
      },
      "execution_count": 32,
      "outputs": [
        {
          "output_type": "stream",
          "name": "stdout",
          "text": [
            "Given array:\n",
            "[75.42436315 42.48558583 60.32924763]\n",
            "\n",
            "Replace all elements of array which are greater than 50. to 15.50\n",
            "New array :\n",
            "\n",
            "[75.42436315 15.5        60.32924763]\n"
          ]
        }
      ]
    },
    {
      "cell_type": "code",
      "source": [
        "# Return the indices of elements where the given condition is satisfied\n",
        "\n",
        "a = np.array([1, 2, 3, 4, 5])\n",
        "\n",
        "condition = a >= 4\n",
        "indexes = np.where(condition)\n",
        "print(indexes)"
      ],
      "metadata": {
        "colab": {
          "base_uri": "https://localhost:8080/"
        },
        "id": "9gaaSTVUktLl",
        "outputId": "14b2e48b-26eb-467f-838a-6ba36713bada"
      },
      "execution_count": 35,
      "outputs": [
        {
          "output_type": "stream",
          "name": "stdout",
          "text": [
            "(array([3, 4]),)\n"
          ]
        }
      ]
    },
    {
      "cell_type": "code",
      "source": [
        "# Replace NaN values with average of columns\n",
        "\n",
        "ini_array = np.array([[1.3, 2.5, 3.6, np.nan],\n",
        "                      [2.6, 3.3, np.nan, 5.5],\n",
        "                      [2.1, 3.2, 5.4, 6.5]])\n",
        "\n",
        "print (\"initial array\\n\", ini_array)\n",
        "\n",
        "# replace nan with col means\n",
        "res = np.where(np.isnan(ini_array), np.ma.array(ini_array,\n",
        "               mask = np.isnan(ini_array)).mean(axis = 0), ini_array)\n",
        "\n",
        "# printing final array\n",
        "print (\"\\nfinal array\\n\", res)"
      ],
      "metadata": {
        "colab": {
          "base_uri": "https://localhost:8080/"
        },
        "id": "6AY8QNGRlXCw",
        "outputId": "d7087ae8-3e8c-4c3d-b0e4-40771889cf21"
      },
      "execution_count": 39,
      "outputs": [
        {
          "output_type": "stream",
          "name": "stdout",
          "text": [
            "initial array\n",
            " [[1.3 2.5 3.6 nan]\n",
            " [2.6 3.3 nan 5.5]\n",
            " [2.1 3.2 5.4 6.5]]\n",
            "\n",
            "final array\n",
            " [[1.3 2.5 3.6 6. ]\n",
            " [2.6 3.3 4.5 5.5]\n",
            " [2.1 3.2 5.4 6.5]]\n"
          ]
        }
      ]
    },
    {
      "cell_type": "code",
      "source": [
        "# Replace negative value with zero in numpy array\n",
        "\n",
        "maxx = 1000\n",
        "\n",
        "ini_array1 = np.array([1, 2, -3, 4, -5, -6])\n",
        "\n",
        "print(\"initial array\", ini_array1)\n",
        "\n",
        "# code to replace all negative value with 0\n",
        "result = np.clip(ini_array1, 0, 1000)\n",
        "\n",
        "# printing result\n",
        "print(\"Result: \", result)"
      ],
      "metadata": {
        "colab": {
          "base_uri": "https://localhost:8080/"
        },
        "id": "l_uWo_6jlvCD",
        "outputId": "6b5b1fb7-8dd5-4cf9-d963-7cb5489b4b37"
      },
      "execution_count": 41,
      "outputs": [
        {
          "output_type": "stream",
          "name": "stdout",
          "text": [
            "initial array [ 1  2 -3  4 -5 -6]\n",
            "Result:  [1 2 0 4 0 0]\n"
          ]
        }
      ]
    },
    {
      "cell_type": "code",
      "source": [
        "# How to get values of an NumPy array at certain index positions?\n",
        "\n",
        "a1 = np.array([[11, 10, 22, 30],\n",
        "               [14, 58, 88, 100]])\n",
        "\n",
        "print(\"Array 1 :\")\n",
        "print(a1)\n",
        "\n",
        "a2 = np.array([1, 15, 6, 40])\n",
        "print(\"Array 2 :\")\n",
        "print(a2)\n",
        "\n",
        "print(\"\\nTake 1, 15 and 6 from Array 2 and put them in 1st,\\\n",
        "4th and 7th positions of Array 1\")\n",
        "\n",
        "a1.put([0, 3, 6], a2)\n",
        "\n",
        "print(\"Resultant Array :\")\n",
        "print(a1)"
      ],
      "metadata": {
        "colab": {
          "base_uri": "https://localhost:8080/"
        },
        "id": "jTpBM3I0mDPH",
        "outputId": "086768c0-e4ff-4de8-913d-e96315ef6b06"
      },
      "execution_count": 42,
      "outputs": [
        {
          "output_type": "stream",
          "name": "stdout",
          "text": [
            "Array 1 :\n",
            "[[ 11  10  22  30]\n",
            " [ 14  58  88 100]]\n",
            "Array 2 :\n",
            "[ 1 15  6 40]\n",
            "\n",
            "Take 1, 15 and 6 from Array 2 and put them in 1st,4th and 7th positions of Array 1\n",
            "Resultant Array :\n",
            "[[  1  10  22  15]\n",
            " [ 14  58   6 100]]\n"
          ]
        }
      ]
    },
    {
      "cell_type": "code",
      "source": [
        "# Find indices of elements equal to zero in a NumPy array\n",
        "\n",
        "n_array = np.array([1, 0, 2, 0, 3, 0, 0, 5,\n",
        "                    6, 7, 5, 0, 8])\n",
        "\n",
        "print(\"Original array:\")\n",
        "print(n_array)\n",
        "\n",
        "# finding indices of null elements using np.where()\n",
        "print(\"\\nIndices of elements equal to zero :\")\n",
        "\n",
        "res = np.where(n_array == 0)[0]\n",
        "print(res)"
      ],
      "metadata": {
        "colab": {
          "base_uri": "https://localhost:8080/"
        },
        "id": "87e-PUnFmjmH",
        "outputId": "30a3b53a-26f4-40ab-d2f9-8095c990ff07"
      },
      "execution_count": 44,
      "outputs": [
        {
          "output_type": "stream",
          "name": "stdout",
          "text": [
            "Original array:\n",
            "[1 0 2 0 3 0 0 5 6 7 5 0 8]\n",
            "\n",
            "Indices of elements equal to zero :\n",
            "[ 1  3  5  6 11]\n"
          ]
        }
      ]
    },
    {
      "cell_type": "code",
      "source": [
        "# How to Remove columns in Numpy array that contains non-numeric values?\n",
        "\n",
        "n_arr = np.array([[10.5, 22.5, 10.5],\n",
        "                  [41, 52.5, 25],\n",
        "                  [100, np.nan, 41]])\n",
        "\n",
        "print(\"Given array:\")\n",
        "print(n_arr)\n",
        "\n",
        "print(\"\\nRemove all columns containing non-numeric elements \")\n",
        "print(n_arr[:, ~np.isnan(n_arr).any(axis=0)])"
      ],
      "metadata": {
        "colab": {
          "base_uri": "https://localhost:8080/"
        },
        "id": "DFgE7CYpmzdA",
        "outputId": "925c43d9-a1c4-4c1c-bc37-c040a96aef4f"
      },
      "execution_count": 45,
      "outputs": [
        {
          "output_type": "stream",
          "name": "stdout",
          "text": [
            "Given array:\n",
            "[[ 10.5  22.5  10.5]\n",
            " [ 41.   52.5  25. ]\n",
            " [100.    nan  41. ]]\n",
            "\n",
            "Remove all columns containing non-numeric elements \n",
            "[[ 10.5  10.5]\n",
            " [ 41.   25. ]\n",
            " [100.   41. ]]\n"
          ]
        }
      ]
    },
    {
      "cell_type": "code",
      "source": [
        "# How to access different rows of a multidimensional NumPy array?\n",
        "\n",
        "arr = np.array([[10, 20, 30],\n",
        "                [40, 5, 66],\n",
        "                [70, 88, 94]])\n",
        "\n",
        "print(\"Given Array :\")\n",
        "print(arr)\n",
        "\n",
        "# Access the First and Last rows of array\n",
        "res_arr = arr[[0,2]]\n",
        "print(\"\\nAccessed Rows :\")\n",
        "print(res_arr)"
      ],
      "metadata": {
        "colab": {
          "base_uri": "https://localhost:8080/"
        },
        "id": "9sFNBuHGnVt9",
        "outputId": "cd8ed3ca-10c8-4e67-9037-c595753c478b"
      },
      "execution_count": 46,
      "outputs": [
        {
          "output_type": "stream",
          "name": "stdout",
          "text": [
            "Given Array :\n",
            "[[10 20 30]\n",
            " [40  5 66]\n",
            " [70 88 94]]\n",
            "\n",
            "Accessed Rows :\n",
            "[[10 20 30]\n",
            " [70 88 94]]\n"
          ]
        }
      ]
    },
    {
      "cell_type": "code",
      "source": [
        "# Get row numbers of NumPy array having element larger than X\n",
        "\n",
        "arr = np.array([[1, 2, 3, 4, 5],\n",
        "                  [10, -3, 30, 4, 5],\n",
        "                  [3, 2, 5, -4, 5],\n",
        "                  [9, 7, 3, 6, 5]\n",
        "                 ])\n",
        "\n",
        "# declare specified value\n",
        "X = 6\n",
        "\n",
        "print(\"Given Array:\\n\", arr)\n",
        "\n",
        "# finding out the row numbers\n",
        "output  = np.where(np.any(arr > X,\n",
        "                                axis = 1))\n",
        "\n",
        "# view output\n",
        "print(\"Result:\\n\", output)"
      ],
      "metadata": {
        "colab": {
          "base_uri": "https://localhost:8080/"
        },
        "id": "zKPcvR9EngL4",
        "outputId": "19f4908e-6779-4fc1-9742-bc20ff0b1ca2"
      },
      "execution_count": 48,
      "outputs": [
        {
          "output_type": "stream",
          "name": "stdout",
          "text": [
            "Given Array:\n",
            " [[ 1  2  3  4  5]\n",
            " [10 -3 30  4  5]\n",
            " [ 3  2  5 -4  5]\n",
            " [ 9  7  3  6  5]]\n",
            "Result:\n",
            " (array([1, 3]),)\n"
          ]
        }
      ]
    },
    {
      "cell_type": "code",
      "source": [
        "# Get filled the diagonals of NumPy array\n",
        "\n",
        "array = np.array([[1, 2], [2, 1]])\n",
        "np.fill_diagonal(array, 5)\n",
        "\n",
        "print(array)"
      ],
      "metadata": {
        "colab": {
          "base_uri": "https://localhost:8080/"
        },
        "id": "zv3OabzEoPFg",
        "outputId": "53285e67-012c-4ded-d6f0-c7cbe9aeceed"
      },
      "execution_count": 49,
      "outputs": [
        {
          "output_type": "stream",
          "name": "stdout",
          "text": [
            "[[5 2]\n",
            " [2 5]]\n"
          ]
        }
      ]
    },
    {
      "cell_type": "code",
      "source": [
        "# Check elements present in the NumPy array\n",
        "\n",
        "n_array = np.array([[2, 3, 0],\n",
        "                    [4, 1, 6]])\n",
        "\n",
        "print(\"Given array:\")\n",
        "print(n_array)\n",
        "\n",
        "# Checking whether specific values\n",
        "# are present in \"n_array\" or not\n",
        "print(2 in n_array)\n",
        "print(0 in n_array)\n",
        "print(6 in n_array)\n",
        "print(50 in n_array)\n",
        "print(10 in n_array)"
      ],
      "metadata": {
        "colab": {
          "base_uri": "https://localhost:8080/"
        },
        "id": "dFV7RJtqo93N",
        "outputId": "0b4addc9-e652-4843-975c-64494815212c"
      },
      "execution_count": 50,
      "outputs": [
        {
          "output_type": "stream",
          "name": "stdout",
          "text": [
            "Given array:\n",
            "[[2 3 0]\n",
            " [4 1 6]]\n",
            "True\n",
            "True\n",
            "True\n",
            "False\n",
            "False\n"
          ]
        }
      ]
    },
    {
      "cell_type": "code",
      "source": [
        "# Combined array index by index\n",
        "\n",
        "# Verticalmente\n",
        "a = np.array([1, 2, 3])\n",
        "b = np.array([4, 5, 6])\n",
        "\n",
        "result = np.vstack((a, b))\n",
        "print(result)\n",
        "\n",
        "#Horizontalmente\n",
        "a = np.array([1, 2, 3])\n",
        "b = np.array([4, 5, 6])\n",
        "\n",
        "result = np.hstack((a, b))\n",
        "print('\\n', result)"
      ],
      "metadata": {
        "colab": {
          "base_uri": "https://localhost:8080/"
        },
        "id": "T5IuVPAkpTvk",
        "outputId": "3b1f1f69-3a00-4da5-8261-642baee777fd"
      },
      "execution_count": 54,
      "outputs": [
        {
          "output_type": "stream",
          "name": "stdout",
          "text": [
            "[[1 2 3]\n",
            " [4 5 6]]\n",
            "\n",
            " [1 2 3 4 5 6]\n"
          ]
        }
      ]
    },
    {
      "cell_type": "markdown",
      "source": [],
      "metadata": {
        "id": "BlKXATtGqITB"
      }
    },
    {
      "cell_type": "markdown",
      "source": [
        "# **Questions on NumPy Linear Algebra**"
      ],
      "metadata": {
        "id": "oiDHehk0qKMN"
      }
    },
    {
      "cell_type": "code",
      "source": [
        "# Find a matrix or vector norm using NumPy\n",
        "\n",
        "vec = np.arange(10)\n",
        "\n",
        "# compute norm of vector\n",
        "vec_norm = np.linalg.norm(vec)\n",
        "\n",
        "print(\"Vector norm:\")\n",
        "print(vec_norm)"
      ],
      "metadata": {
        "colab": {
          "base_uri": "https://localhost:8080/"
        },
        "id": "Mq_dQxBNqM-L",
        "outputId": "2287128d-eb17-4857-9d72-330d0ad31ab6"
      },
      "execution_count": 58,
      "outputs": [
        {
          "output_type": "stream",
          "name": "stdout",
          "text": [
            "Vector norm:\n",
            "16.881943016134134\n"
          ]
        }
      ]
    },
    {
      "cell_type": "code",
      "source": [
        "# Calculate the QR decomposition of a given matrix using NumPy\n",
        "\n",
        "matrix1 = np.array([[1, 2, 3], [3, 4, 5]])\n",
        "print(matrix1)\n",
        "\n",
        "# Decomposition of the said matrix\n",
        "q, r = np.linalg.qr(matrix1)\n",
        "print('\\nQ:\\n', q)\n",
        "print('\\nR:\\n', r)"
      ],
      "metadata": {
        "colab": {
          "base_uri": "https://localhost:8080/"
        },
        "id": "VyHLjmkTqV2g",
        "outputId": "b17b6ef2-7457-45af-b631-6ec5913f38b0"
      },
      "execution_count": 59,
      "outputs": [
        {
          "output_type": "stream",
          "name": "stdout",
          "text": [
            "[[1 2 3]\n",
            " [3 4 5]]\n",
            "\n",
            "Q:\n",
            " [[-0.31622777 -0.9486833 ]\n",
            " [-0.9486833   0.31622777]]\n",
            "\n",
            "R:\n",
            " [[-3.16227766 -4.42718872 -5.69209979]\n",
            " [ 0.         -0.63245553 -1.26491106]]\n"
          ]
        }
      ]
    },
    {
      "cell_type": "code",
      "source": [
        "# Compute the condition number of a given matrix using NumPy\n",
        "\n",
        "matrix = np.array([[4, 2], [3, 1]])\n",
        "\n",
        "print(\"Original matrix:\")\n",
        "print(matrix)\n",
        "\n",
        "# Output\n",
        "result =  np.linalg.cond(matrix)\n",
        "\n",
        "print(\"Condition number of the matrix:\")\n",
        "print(result)"
      ],
      "metadata": {
        "colab": {
          "base_uri": "https://localhost:8080/"
        },
        "id": "yXGXMoneqcfG",
        "outputId": "f22833c7-44fc-49ab-c557-2c5a2fbaa0ae"
      },
      "execution_count": 57,
      "outputs": [
        {
          "output_type": "stream",
          "name": "stdout",
          "text": [
            "Original matrix:\n",
            "[[4 2]\n",
            " [3 1]]\n",
            "Condition number of the matrix:\n",
            "14.933034373659256\n"
          ]
        }
      ]
    },
    {
      "cell_type": "code",
      "source": [
        "# Compute the eigenvalues and right eigenvectors of a given square array using NumPy?\n",
        "\n",
        "m = np.array([[1, 2],\n",
        "              [2, 3]])\n",
        "\n",
        "print(\"Printing the Original square array:\\n\", m)\n",
        "\n",
        "# finding eigenvalues and eigenvectors\n",
        "w, v = np.linalg.eig(m)\n",
        "\n",
        "# printing eigen values\n",
        "print(\"Printing the Eigen values of the given square array:\\n\", w)\n",
        "\n",
        "# printing eigen vectors\n",
        "print(\"Printing Right eigenvectors of the given square array:\\n\", v)"
      ],
      "metadata": {
        "colab": {
          "base_uri": "https://localhost:8080/"
        },
        "id": "oQq4pI6kqe1K",
        "outputId": "d731e1eb-2e7f-4b5e-d0ce-3695dcd8c258"
      },
      "execution_count": 56,
      "outputs": [
        {
          "output_type": "stream",
          "name": "stdout",
          "text": [
            "Printing the Original square array:\n",
            " [[1 2]\n",
            " [2 3]]\n",
            "Printing the Eigen values of the given square array:\n",
            " [-0.23606798  4.23606798]\n",
            "Printing Right eigenvectors of the given square array:\n",
            " [[-0.85065081 -0.52573111]\n",
            " [ 0.52573111 -0.85065081]]\n"
          ]
        }
      ]
    },
    {
      "cell_type": "code",
      "source": [
        "# Calculate the Euclidean distance using NumPy\n",
        "\n",
        "point1 = np.array((1, 2, 3))\n",
        "point2 = np.array((1, 1, 1))\n",
        "\n",
        "# calculating Euclidean distance\n",
        "# using linalg.norm()\n",
        "dist = np.linalg.norm(point1 - point2)\n",
        "\n",
        "# printing Euclidean distance\n",
        "print(dist)"
      ],
      "metadata": {
        "colab": {
          "base_uri": "https://localhost:8080/"
        },
        "id": "dopBx6ebqiyW",
        "outputId": "87cfe094-b405-40cd-c95d-092c0092ee79"
      },
      "execution_count": 55,
      "outputs": [
        {
          "output_type": "stream",
          "name": "stdout",
          "text": [
            "2.23606797749979\n"
          ]
        }
      ]
    },
    {
      "cell_type": "markdown",
      "source": [
        "# **Questions on NumPy Random**"
      ],
      "metadata": {
        "id": "QWN7ygjcrhUa"
      }
    },
    {
      "cell_type": "code",
      "source": [
        "# Questions on NumPy Random\n",
        "array1 = np.random.rand(5, 5)\n",
        "\n",
        "print(array1)"
      ],
      "metadata": {
        "colab": {
          "base_uri": "https://localhost:8080/"
        },
        "id": "XbcNSPgFsFvG",
        "outputId": "7ea3ba3c-8dff-4d5c-ab6f-48920d820042"
      },
      "execution_count": 72,
      "outputs": [
        {
          "output_type": "stream",
          "name": "stdout",
          "text": [
            "[[0.85219752 0.65014929 0.71862185 0.04607784 0.86045514]\n",
            " [0.8674788  0.90174648 0.84209036 0.64942377 0.81347417]\n",
            " [0.36518201 0.30625763 0.59119982 0.07918084 0.12013938]\n",
            " [0.40706959 0.79652669 0.96424326 0.42000905 0.39578583]\n",
            " [0.94841948 0.77862914 0.73604364 0.88067739 0.07541168]]\n"
          ]
        }
      ]
    },
    {
      "cell_type": "code",
      "source": [
        "# How to choose elements from the list with different probability using NumPy?\n",
        "elements = [2, 4, 6, 8, 0]\n",
        "probabilities = [0.1, 0.2, 0.3, 0.2, 0.2]\n",
        "chosen_elements = np.random.choice(elements, size=5, p=probabilities, replace=False) #with no replace, cannot choose the same number\n",
        "print(chosen_elements)"
      ],
      "metadata": {
        "colab": {
          "base_uri": "https://localhost:8080/"
        },
        "id": "Ihc10COpsgRI",
        "outputId": "e31ed4dc-f78d-4836-acf3-528adeecde3a"
      },
      "execution_count": 70,
      "outputs": [
        {
          "output_type": "stream",
          "name": "stdout",
          "text": [
            "[6 8 4 0 2]\n"
          ]
        }
      ]
    },
    {
      "cell_type": "code",
      "source": [
        "# How to get weighted random choice in Python?\n",
        "elements = ['A', 'B', 'C', 'D']\n",
        "weights = [0.1, 0.3, 0.5, 0.1]\n",
        "choice = np.random.choice(elements, p=weights)\n",
        "print(choice)"
      ],
      "metadata": {
        "colab": {
          "base_uri": "https://localhost:8080/"
        },
        "id": "N8MNTEkzshO9",
        "outputId": "e4b4f5b9-35a9-4bda-cd7d-50e20d013f97"
      },
      "execution_count": 69,
      "outputs": [
        {
          "output_type": "stream",
          "name": "stdout",
          "text": [
            "C\n"
          ]
        }
      ]
    },
    {
      "cell_type": "code",
      "source": [
        "# Generate Random Numbers From The Uniform Distribution using NumPy\n",
        "\n",
        "# numpy.random.uniform() method\n",
        "r = np.random.uniform(size=6)\n",
        "\n",
        "# printing numbers\n",
        "print(r)"
      ],
      "metadata": {
        "colab": {
          "base_uri": "https://localhost:8080/"
        },
        "id": "LQNA5soLsjWf",
        "outputId": "cccdc8f0-9d91-4e41-bb54-0b3c78c3be40"
      },
      "execution_count": 65,
      "outputs": [
        {
          "output_type": "stream",
          "name": "stdout",
          "text": [
            "[0.77016396 0.21499605 0.43081981 0.15804365 0.58862575 0.65459641]\n"
          ]
        }
      ]
    },
    {
      "cell_type": "code",
      "source": [
        "# Get Random Elements form geometric distribution\n",
        "random_n = np.random.geometric(p=0.6)\n",
        "print(random_n)\n",
        "\n",
        "random_array = np.random.geometric(p=0.6, size=6)\n",
        "print(random_array)"
      ],
      "metadata": {
        "colab": {
          "base_uri": "https://localhost:8080/"
        },
        "id": "tOYFg68Uskaz",
        "outputId": "ae53b296-de7e-4b61-e0f7-6fd63ca6c88d"
      },
      "execution_count": 64,
      "outputs": [
        {
          "output_type": "stream",
          "name": "stdout",
          "text": [
            "1\n",
            "[1 3 1 1 2 2]\n"
          ]
        }
      ]
    },
    {
      "cell_type": "code",
      "source": [
        "# Get Random elements from Laplace distribution\n",
        "random_n = np.random.laplace(loc=0.0, scale=1.0)\n",
        "print(random_n)\n",
        "\n",
        "random_array = np.random.laplace(loc=0.0, scale=1.0, size=5)\n",
        "print(random_array)"
      ],
      "metadata": {
        "colab": {
          "base_uri": "https://localhost:8080/"
        },
        "id": "MTZDsLndsm1w",
        "outputId": "7db068f9-8f60-47cd-eaf5-d30840ea5e13"
      },
      "execution_count": 63,
      "outputs": [
        {
          "output_type": "stream",
          "name": "stdout",
          "text": [
            "1.742418627360499\n",
            "[-0.34957269 -1.51204782  0.60965349  0.36195125  1.78444755]\n"
          ]
        }
      ]
    },
    {
      "cell_type": "code",
      "source": [
        "# Return a Matrix of random values from a uniform distribution\n",
        "n = 2\n",
        "m = 5\n",
        "random_m = np.random.rand(n, m)\n",
        "\n",
        "print(random_m)"
      ],
      "metadata": {
        "colab": {
          "base_uri": "https://localhost:8080/"
        },
        "id": "EbKjHpSssoeU",
        "outputId": "48b3c227-aeb3-4a0f-b1f5-435eed9d9a78"
      },
      "execution_count": 62,
      "outputs": [
        {
          "output_type": "stream",
          "name": "stdout",
          "text": [
            "[[0.54778913 0.38363297 0.6208226  0.83331955 0.32945103]\n",
            " [0.0851335  0.54604228 0.18319885 0.34740828 0.88635806]]\n"
          ]
        }
      ]
    },
    {
      "cell_type": "code",
      "source": [
        "# Return a Matrix of random values from a Gaussian distribution\n",
        "n = 2\n",
        "m = 5\n",
        "random_m = np.random.normal(loc=0.0, scale=1.0, size=(n, m))\n",
        "\n",
        "print(random_m)"
      ],
      "metadata": {
        "colab": {
          "base_uri": "https://localhost:8080/"
        },
        "id": "IcohSNU9spUT",
        "outputId": "d3bb4bd1-51d6-4786-f2df-7b993d677642"
      },
      "execution_count": 61,
      "outputs": [
        {
          "output_type": "stream",
          "name": "stdout",
          "text": [
            "[[ 0.96600865 -2.3837902   0.58911449 -0.5865591   0.12245659]\n",
            " [ 0.92761103  0.62528346 -0.53157682  0.37693816  1.20372154]]\n"
          ]
        }
      ]
    },
    {
      "cell_type": "markdown",
      "source": [
        "# **Questions on NumPy Sorting and Searching**"
      ],
      "metadata": {
        "id": "hFLdyZLDwP0-"
      }
    },
    {
      "cell_type": "code",
      "source": [
        "# How to get the indices of the sorted array using NumPy in Python?\n",
        "# Original array\n",
        "array = np.array([10, 52, 62, 16, 16, 54, 453])\n",
        "print(array)\n",
        "\n",
        "# Indices of the sorted\n",
        "indices = np.argsort(array)\n",
        "print(indices)"
      ],
      "metadata": {
        "colab": {
          "base_uri": "https://localhost:8080/"
        },
        "id": "hzoLmftiwU30",
        "outputId": "e106702c-c5b6-4d4a-c814-fc52a5d314bc"
      },
      "execution_count": 73,
      "outputs": [
        {
          "output_type": "stream",
          "name": "stdout",
          "text": [
            "[ 10  52  62  16  16  54 453]\n",
            "[0 3 4 1 5 2 6]\n"
          ]
        }
      ]
    },
    {
      "cell_type": "code",
      "source": [
        "# Finding the k smallest values of a NumPy array\n",
        "arr = np.array([23, 12, 1, 3, 4, 5, 6])\n",
        "print(\"The Original Array Content\")\n",
        "print(arr)\n",
        "\n",
        "# value of k\n",
        "k = 4\n",
        "\n",
        "# sorting the array\n",
        "arr1 = np.sort(arr)\n",
        "\n",
        "# k smallest number of array\n",
        "print(k, \"smallest elements of the array\")\n",
        "print(arr1[:k])"
      ],
      "metadata": {
        "colab": {
          "base_uri": "https://localhost:8080/"
        },
        "id": "WV9k1pKYwcFV",
        "outputId": "73e15531-b65f-4632-9229-cfd1e076ff32"
      },
      "execution_count": 74,
      "outputs": [
        {
          "output_type": "stream",
          "name": "stdout",
          "text": [
            "The Original Array Content\n",
            "[23 12  1  3  4  5  6]\n",
            "4 smallest elements of the array\n",
            "[1 3 4 5]\n"
          ]
        }
      ]
    },
    {
      "cell_type": "code",
      "source": [
        "# How to get the n-largest values of an array using NumPy?\n",
        "arr = np.array([2, 0,  1, 5,\n",
        "                4, 1, 9])\n",
        "\n",
        "print(\"Given array:\", arr)\n",
        "\n",
        "# sort an array in ascending order\n",
        "# np.argsort() return array of indices for\n",
        "# sorted array\n",
        "sorted_index_array = np.argsort(arr)\n",
        "\n",
        "# sorted array\n",
        "sorted_array = arr[sorted_index_array]\n",
        "\n",
        "print(\"Sorted array:\", sorted_array)\n",
        "\n",
        "# we want 1 largest value\n",
        "n = 1\n",
        "\n",
        "# we are using negative indexing concept\n",
        "\n",
        "# take n largest value\n",
        "rslt = sorted_array[-n : ]\n",
        "\n",
        "# show the output\n",
        "print(\"{} largest value:\".format(n),\n",
        "      rslt[0])"
      ],
      "metadata": {
        "colab": {
          "base_uri": "https://localhost:8080/"
        },
        "id": "asDaatPhweQ_",
        "outputId": "81d68316-e4e8-48d6-8a17-003e473699db"
      },
      "execution_count": 75,
      "outputs": [
        {
          "output_type": "stream",
          "name": "stdout",
          "text": [
            "Given array: [2 0 1 5 4 1 9]\n",
            "Sorted array: [0 1 1 2 4 5 9]\n",
            "1 largest value: 9\n"
          ]
        }
      ]
    },
    {
      "cell_type": "code",
      "source": [
        "# Sort the values in a matrix\n",
        "a = np.matrix('[4, 1, 6; 12, 3, 9]')\n",
        "print(a)\n",
        "# applying matrix.sort() method\n",
        "a.sort()\n",
        "\n",
        "print('\\n', a)"
      ],
      "metadata": {
        "colab": {
          "base_uri": "https://localhost:8080/"
        },
        "id": "-K5nxIxHwfR5",
        "outputId": "15cde3a3-771a-4b52-c37c-04b1c570d599"
      },
      "execution_count": 77,
      "outputs": [
        {
          "output_type": "stream",
          "name": "stdout",
          "text": [
            "[[ 4  1  6]\n",
            " [12  3  9]]\n",
            "\n",
            " [[ 1  4  6]\n",
            " [ 3  9 12]]\n"
          ]
        }
      ]
    },
    {
      "cell_type": "code",
      "source": [
        "# Filter out integers from float numpy array\n",
        "f_array = np.array([1.8, 2.0, 3.9, 4.5, 5.1])\n",
        "print(f_array)\n",
        "\n",
        "integers_indexes = np.where(f_array % 1 != 0)\n",
        "filtered_array = f_array[integers_indexes]\n",
        "\n",
        "print('\\n', filtered_array)"
      ],
      "metadata": {
        "colab": {
          "base_uri": "https://localhost:8080/"
        },
        "id": "b6ljya_9whC5",
        "outputId": "64a96b25-b36a-4732-fbb6-934296480f74"
      },
      "execution_count": 84,
      "outputs": [
        {
          "output_type": "stream",
          "name": "stdout",
          "text": [
            "[1.8 2.  3.9 4.5 5.1]\n",
            "\n",
            " [1.8 3.9 4.5 5.1]\n"
          ]
        }
      ]
    },
    {
      "cell_type": "code",
      "source": [
        "# Find the indices into a sorted array\n",
        "a = np.array([4, 3, 10, 0, 6])\n",
        "\n",
        "sorted = np.argsort(a)\n",
        "print(sorted)"
      ],
      "metadata": {
        "colab": {
          "base_uri": "https://localhost:8080/"
        },
        "id": "qjbHQcx3wiHl",
        "outputId": "0d83861d-229a-4c55-f3fc-2eee3a8e6175"
      },
      "execution_count": 87,
      "outputs": [
        {
          "output_type": "stream",
          "name": "stdout",
          "text": [
            "[3 1 0 4 2]\n"
          ]
        }
      ]
    },
    {
      "cell_type": "markdown",
      "source": [
        "# **Questions on NumPy Mathematics**"
      ],
      "metadata": {
        "id": "dT164D4uz8d_"
      }
    },
    {
      "cell_type": "code",
      "source": [
        "# How to get element-wise true division of an array using Numpy?\n",
        "arr1 = np.array([1, 2, 3])\n",
        "arr2 = np.array([4, 5, 6])\n",
        "\n",
        "result1 = np.true_divide(arr1, arr2)\n",
        "\n",
        "print(result1)"
      ],
      "metadata": {
        "colab": {
          "base_uri": "https://localhost:8080/"
        },
        "id": "cYeDYJoh0FWS",
        "outputId": "e7486ffb-ce89-424c-8a1d-37049fb10374"
      },
      "execution_count": 122,
      "outputs": [
        {
          "output_type": "stream",
          "name": "stdout",
          "text": [
            "[0.25 0.4  0.5 ]\n"
          ]
        }
      ]
    },
    {
      "cell_type": "code",
      "source": [
        "#  How to calculate the element-wise absolute value of NumPy array?\n",
        "arr = np.array([-1, 2, -3, 4, -5])\n",
        "\n",
        "abs_values = np.abs(arr)\n",
        "print(abs_values)"
      ],
      "metadata": {
        "colab": {
          "base_uri": "https://localhost:8080/"
        },
        "id": "8ygzZt8m0FvO",
        "outputId": "c57aa306-298a-400f-ca86-09703f4156be"
      },
      "execution_count": 123,
      "outputs": [
        {
          "output_type": "stream",
          "name": "stdout",
          "text": [
            "[1 2 3 4 5]\n"
          ]
        }
      ]
    },
    {
      "cell_type": "code",
      "source": [
        "#  Compute the negative of the NumPy array\n",
        "arr = np.array([-1, 2, -3, 4])\n",
        "\n",
        "negative_values = np.negative(arr)\n",
        "print(negative_values)"
      ],
      "metadata": {
        "colab": {
          "base_uri": "https://localhost:8080/"
        },
        "id": "nhgLb2cS0GvD",
        "outputId": "85a9d012-eb95-417d-d5ea-c7df2338fd51"
      },
      "execution_count": 124,
      "outputs": [
        {
          "output_type": "stream",
          "name": "stdout",
          "text": [
            "[ 1 -2  3 -4]\n"
          ]
        }
      ]
    },
    {
      "cell_type": "code",
      "source": [
        "#  Multiply 2d numpy array corresponding to 1d array\n",
        "a = np.array([2, 3, 4])\n",
        "\n",
        "b = np.array([[1, 2, 3],\n",
        "                  [4, 5, 6]])\n",
        "\n",
        "result = b * a\n",
        "\n",
        "print(result)"
      ],
      "metadata": {
        "colab": {
          "base_uri": "https://localhost:8080/"
        },
        "id": "N_WkIAOV0GsK",
        "outputId": "98bf9712-d622-4eec-b1b3-60f7cca1ce66"
      },
      "execution_count": 125,
      "outputs": [
        {
          "output_type": "stream",
          "name": "stdout",
          "text": [
            "[[ 2  6 12]\n",
            " [ 8 15 24]]\n"
          ]
        }
      ]
    },
    {
      "cell_type": "code",
      "source": [
        "# Computes the inner product of two arrays\n",
        "a = np.array([1, 2, 3])\n",
        "b = np.array([4, 5, 6])\n",
        "\n",
        "result = np.inner(a, b)\n",
        "print(result)"
      ],
      "metadata": {
        "colab": {
          "base_uri": "https://localhost:8080/"
        },
        "id": "onTUyYyS0Gpd",
        "outputId": "c00f2d4d-6e3d-449e-e985-48d7dbf6c4ed"
      },
      "execution_count": 126,
      "outputs": [
        {
          "output_type": "stream",
          "name": "stdout",
          "text": [
            "32\n"
          ]
        }
      ]
    },
    {
      "cell_type": "code",
      "source": [
        "# Compute the nth percentile of the NumPy array\n",
        "arr = np.array([1, 2, 3, 4])\n",
        "\n",
        "n = 50\n",
        "percentile_n = np.percentile(arr, n)\n",
        "print(percentile_n)"
      ],
      "metadata": {
        "colab": {
          "base_uri": "https://localhost:8080/"
        },
        "id": "dGy02ZZ10Gmg",
        "outputId": "1e42289c-51a4-4b07-fac0-a838e06c9d0c"
      },
      "execution_count": 128,
      "outputs": [
        {
          "output_type": "stream",
          "name": "stdout",
          "text": [
            "2.5\n"
          ]
        }
      ]
    },
    {
      "cell_type": "code",
      "source": [
        "# Calculate the n-th order discrete difference along the given axis\n",
        "arr = np.array([[1, 4, 9, 16, 25],\n",
        "               [2, 3, 5, 6, 5]])\n",
        "n = 1\n",
        "order = np.diff(arr, axis=1, n=n)\n",
        "print(order)"
      ],
      "metadata": {
        "colab": {
          "base_uri": "https://localhost:8080/"
        },
        "id": "_knIoW2z0Gjt",
        "outputId": "5ee56707-7aec-4f5e-f31a-195c6967fa41"
      },
      "execution_count": 129,
      "outputs": [
        {
          "output_type": "stream",
          "name": "stdout",
          "text": [
            "[[ 3  5  7  9]\n",
            " [ 1  2  1 -1]]\n"
          ]
        }
      ]
    },
    {
      "cell_type": "code",
      "source": [
        "#  Calculate the sum of all columns in a 2D NumPy array\n",
        "arr = np.array([[1, 2, 3],\n",
        "                [4, 5, 6],\n",
        "                [7, 8, 9]])\n",
        "\n",
        "columns_soma = np.sum(arr, axis=0)\n",
        "print(columns_soma)"
      ],
      "metadata": {
        "colab": {
          "base_uri": "https://localhost:8080/"
        },
        "id": "ZLDgWwX00Gg2",
        "outputId": "e9e7149d-64dd-4a8a-99c0-7474cee6ab08"
      },
      "execution_count": 130,
      "outputs": [
        {
          "output_type": "stream",
          "name": "stdout",
          "text": [
            "[12 15 18]\n"
          ]
        }
      ]
    },
    {
      "cell_type": "code",
      "source": [
        "# Calculate average values of two given NumPy arrays\n",
        "a = np.array([1, 2, 3, 4, 5])\n",
        "b = np.array([6, 7, 8, 9, 10])\n",
        "\n",
        "#average_values = (a + b) / 2\n",
        "#print(average_values)\n",
        "\n",
        "print(np.mean([a, b], axis=0))"
      ],
      "metadata": {
        "colab": {
          "base_uri": "https://localhost:8080/"
        },
        "id": "-ysOGGyL0Gd9",
        "outputId": "f02df3d5-edd3-48ed-edbe-bfcce060f071"
      },
      "execution_count": 131,
      "outputs": [
        {
          "output_type": "stream",
          "name": "stdout",
          "text": [
            "[3.5 4.5 5.5 6.5 7.5]\n"
          ]
        }
      ]
    },
    {
      "cell_type": "code",
      "source": [
        "#  How to compute numerical negative value for all elements in a given NumPy array?\n",
        "arr = np.array([1, -2, 3, -4, 5])\n",
        "negative_values = np.negative(arr)\n",
        "\n",
        "print(negative_values)"
      ],
      "metadata": {
        "colab": {
          "base_uri": "https://localhost:8080/"
        },
        "id": "tv6Iuhih0GbC",
        "outputId": "274da7f2-9ef4-432e-bf65-ded1ef047d7a"
      },
      "execution_count": 132,
      "outputs": [
        {
          "output_type": "stream",
          "name": "stdout",
          "text": [
            "[-1  2 -3  4 -5]\n"
          ]
        }
      ]
    },
    {
      "cell_type": "code",
      "source": [
        "# How to get the floor, ceiling and truncated values of the elements of a numpy array?\n",
        "arr = np.array([1.2, 2.7, 3.9, -4.5, 5.1])\n",
        "\n",
        "floor = np.floor(arr)\n",
        "ceiling = np.ceil(arr)\n",
        "truncated = np.trunc(arr)\n",
        "\n",
        "print(\"Original array:\", arr)\n",
        "print(\"Floor values:\", floor)\n",
        "print(\"Ceiling values:\", ceiling)\n",
        "print(\"Truncated values:\", truncated)"
      ],
      "metadata": {
        "colab": {
          "base_uri": "https://localhost:8080/"
        },
        "id": "Z-RaBuq50GXG",
        "outputId": "2b2a063c-5920-4729-bf3f-765a58946666"
      },
      "execution_count": 133,
      "outputs": [
        {
          "output_type": "stream",
          "name": "stdout",
          "text": [
            "Original array: [ 1.2  2.7  3.9 -4.5  5.1]\n",
            "Floor values: [ 1.  2.  3. -5.  5.]\n",
            "Ceiling values: [ 2.  3.  4. -4.  6.]\n",
            "Truncated values: [ 1.  2.  3. -4.  5.]\n"
          ]
        }
      ]
    },
    {
      "cell_type": "code",
      "source": [
        "#  How to round elements of the NumPy array to the nearest integer?\n",
        "arr = np.array([1.2, 2.7, 3.5, -4.8, 5.1])\n",
        "\n",
        "rounded = np.round(arr)\n",
        "print(rounded)"
      ],
      "metadata": {
        "colab": {
          "base_uri": "https://localhost:8080/"
        },
        "id": "0JrWnAcW0GQn",
        "outputId": "bf1f2c1f-7bea-4ea7-ead5-32bfd25ee786"
      },
      "execution_count": 134,
      "outputs": [
        {
          "output_type": "stream",
          "name": "stdout",
          "text": [
            "[ 1.  3.  4. -5.  5.]\n"
          ]
        }
      ]
    },
    {
      "cell_type": "code",
      "source": [
        "#  Find the round off the values of the given matrix\n",
        "matrix = np.array([[1.234, 2.567, 3.891],\n",
        "                   [4.567, 5.432, 6.789]])\n",
        "\n",
        "result = np.round(matrix)\n",
        "print(result)"
      ],
      "metadata": {
        "colab": {
          "base_uri": "https://localhost:8080/"
        },
        "id": "RnMGvgnl0R2O",
        "outputId": "46b032cf-8a87-4587-cdac-f20bd7acdf45"
      },
      "execution_count": 137,
      "outputs": [
        {
          "output_type": "stream",
          "name": "stdout",
          "text": [
            "[[1. 3. 4.]\n",
            " [5. 5. 7.]]\n"
          ]
        }
      ]
    },
    {
      "cell_type": "code",
      "source": [
        "# Determine the positive square-root of an array\n",
        "arr = np.array([4, 16, 25])\n",
        "\n",
        "sqrt = np.sqrt(arr)\n",
        "print(sqrt)"
      ],
      "metadata": {
        "colab": {
          "base_uri": "https://localhost:8080/"
        },
        "id": "v0oUEeyI0Rzg",
        "outputId": "76a08ff4-2248-4cb5-d740-74749763688f"
      },
      "execution_count": 138,
      "outputs": [
        {
          "output_type": "stream",
          "name": "stdout",
          "text": [
            "[2. 4. 5.]\n"
          ]
        }
      ]
    },
    {
      "cell_type": "code",
      "source": [
        "# Evaluate Einstein’s summation convention of two multidimensional NumPy arrays\n",
        "a = np.array([[1, 2], [3, 4]])\n",
        "b = np.array([[5, 6], [7, 8]])\n",
        "\n",
        "result = np.einsum('ij,ij->', a, b)\n",
        "print(result)"
      ],
      "metadata": {
        "colab": {
          "base_uri": "https://localhost:8080/"
        },
        "id": "3Qcg8Yig0Rw8",
        "outputId": "d5674de3-2b5d-4c53-b8ba-f4b9d5fef8db"
      },
      "execution_count": 140,
      "outputs": [
        {
          "output_type": "stream",
          "name": "stdout",
          "text": [
            "70\n"
          ]
        }
      ]
    },
    {
      "cell_type": "markdown",
      "source": [
        "# **Questions on NumPy Statistics**"
      ],
      "metadata": {
        "id": "-PNoBAih2_Ot"
      }
    },
    {
      "cell_type": "code",
      "source": [
        "#Compute the median of the flattened NumPy array\n",
        "x_odd = np.array([1, 2, 3, 4, 5, 6, 7])\n",
        "print(\"\\nPrinting the Original array:\")\n",
        "print(x_odd)\n",
        "\n",
        "# calculating median\n",
        "med_odd = np.median(x_odd)\n",
        "print(\"\\nMedian of the array that contains \\\n",
        "odd no of elements:\")\n",
        "print(med_odd)"
      ],
      "metadata": {
        "colab": {
          "base_uri": "https://localhost:8080/"
        },
        "id": "iBfQjQ3Q3Fl_",
        "outputId": "8844d449-3fb9-43ad-bbf4-0ce3c094e042"
      },
      "execution_count": 90,
      "outputs": [
        {
          "output_type": "stream",
          "name": "stdout",
          "text": [
            "\n",
            "Printing the Original array:\n",
            "[1 2 3 4 5 6 7]\n",
            "\n",
            "Median of the array that contains odd no of elements:\n",
            "4.0\n"
          ]
        }
      ]
    },
    {
      "cell_type": "code",
      "source": [
        "#Find Mean of a List of Numpy Array\n",
        "Input = [np.array([1, 2, 3]),\n",
        "         np.array([4, 5, 6]),\n",
        "         np.array([7, 8, 9])]\n",
        "\n",
        "# Output list initialization\n",
        "Output = []\n",
        "\n",
        "# using np.mean()\n",
        "for i in range(len(Input)):\n",
        "   Output.append(np.mean(Input[i]))\n",
        "\n",
        "# Printing output\n",
        "print(Output)"
      ],
      "metadata": {
        "colab": {
          "base_uri": "https://localhost:8080/"
        },
        "id": "7yEHiyfc3Fi1",
        "outputId": "cf471241-35b0-41c3-d784-bae3be89b17b"
      },
      "execution_count": 89,
      "outputs": [
        {
          "output_type": "stream",
          "name": "stdout",
          "text": [
            "[2.0, 5.0, 8.0]\n"
          ]
        }
      ]
    },
    {
      "cell_type": "code",
      "source": [
        "#Calculate the mean of array ignoring the NaN value\n",
        "a = np.array([1, np.nan, 3, 4, 5])\n",
        "mean = np.nanmean(a)\n",
        "print(mean)"
      ],
      "metadata": {
        "colab": {
          "base_uri": "https://localhost:8080/"
        },
        "id": "DdKS5U5h3Ff5",
        "outputId": "b49517bf-f153-4cda-e6a0-85125fda662d"
      },
      "execution_count": 88,
      "outputs": [
        {
          "output_type": "stream",
          "name": "stdout",
          "text": [
            "3.25\n"
          ]
        }
      ]
    },
    {
      "cell_type": "code",
      "source": [
        "#Get the mean value from given matrix\n",
        "a = np.array([[5, 6, 3], [8, 3, 1], [9, 10, 4], [8, 4, 2]])\n",
        "print(a)\n",
        "\n",
        "mean_value = np.mean(a)\n",
        "print(mean_value)"
      ],
      "metadata": {
        "colab": {
          "base_uri": "https://localhost:8080/"
        },
        "id": "5u3mCEtq3FcV",
        "outputId": "687db37a-5f70-492c-8d83-0c82d6fabda1"
      },
      "execution_count": 95,
      "outputs": [
        {
          "output_type": "stream",
          "name": "stdout",
          "text": [
            "[[ 5  6  3]\n",
            " [ 8  3  1]\n",
            " [ 9 10  4]\n",
            " [ 8  4  2]]\n",
            "5.25\n"
          ]
        }
      ]
    },
    {
      "cell_type": "code",
      "source": [
        "#Compute the variance of the NumPy array\n",
        "array = np.arange(10)\n",
        "print(array)\n",
        "\n",
        "r = np.var(array)\n",
        "print(\"\\nvariance: \", r)"
      ],
      "metadata": {
        "colab": {
          "base_uri": "https://localhost:8080/"
        },
        "id": "GDqWh0lE3FQI",
        "outputId": "895a1ea5-4782-4121-a7b5-943ffcea8f4f"
      },
      "execution_count": 96,
      "outputs": [
        {
          "output_type": "stream",
          "name": "stdout",
          "text": [
            "[0 1 2 3 4 5 6 7 8 9]\n",
            "\n",
            "variance:  8.25\n"
          ]
        }
      ]
    },
    {
      "cell_type": "code",
      "source": [
        "#Compute the standard deviation of the NumPy array\n",
        "array = np.arange(10)\n",
        "print(array)\n",
        "\n",
        "r = np.std(array)\n",
        "print(\"\\nstd: \", r)"
      ],
      "metadata": {
        "colab": {
          "base_uri": "https://localhost:8080/"
        },
        "id": "Z3up3bUX3FLg",
        "outputId": "4277e455-8244-4143-f883-663ca3c61b34"
      },
      "execution_count": 97,
      "outputs": [
        {
          "output_type": "stream",
          "name": "stdout",
          "text": [
            "[0 1 2 3 4 5 6 7 8 9]\n",
            "\n",
            "std:  2.8722813232690143\n"
          ]
        }
      ]
    },
    {
      "cell_type": "code",
      "source": [
        "#Compute pearson product-moment correlation coefficients of two given NumPy arrays\n",
        "array1 = np.array([0, 1, 2])\n",
        "array2 = np.array([3, 4, 5])\n",
        "\n",
        "# pearson product-moment correlation coefficients of the arrays\n",
        "rslt = np.corrcoef(array1, array2)\n",
        "\n",
        "print(rslt)"
      ],
      "metadata": {
        "colab": {
          "base_uri": "https://localhost:8080/"
        },
        "id": "Z3IU6lmE3FHA",
        "outputId": "9f7e03ff-34bb-46bc-a0b2-2ab5dd8c1ef4"
      },
      "execution_count": 98,
      "outputs": [
        {
          "output_type": "stream",
          "name": "stdout",
          "text": [
            "[[1. 1.]\n",
            " [1. 1.]]\n"
          ]
        }
      ]
    },
    {
      "cell_type": "code",
      "source": [
        "#Calculate the mean across dimension in a 2D NumPy array\n",
        "arr = np.array([[1, 2, 3], [4, 5, 6], [7, 8, 9]])\n",
        "\n",
        "mean_r = np.mean(arr, axis=0)\n",
        "mean_c = np.mean(arr, axis=1)\n",
        "\n",
        "print(\"Mean across rows:\", mean_r)\n",
        "print(\"Mean across columns:\", mean_c)"
      ],
      "metadata": {
        "colab": {
          "base_uri": "https://localhost:8080/"
        },
        "id": "qxyRoS683FCw",
        "outputId": "987a0652-faf0-41cc-aa5c-9682f4d1b136"
      },
      "execution_count": 101,
      "outputs": [
        {
          "output_type": "stream",
          "name": "stdout",
          "text": [
            "Mean across rows: [4. 5. 6.]\n",
            "Mean across columns: [2. 5. 8.]\n"
          ]
        }
      ]
    },
    {
      "cell_type": "code",
      "source": [
        "#Calculate the average, variance and standard deviation in Python using NumPy\n",
        "arr = np.arange(10)\n",
        "\n",
        "average = np.mean(arr)\n",
        "variance = np.var(arr)\n",
        "std_dev = np.std(arr)\n",
        "\n",
        "print(\"Average:\", average)\n",
        "print(\"Variance:\", variance)\n",
        "print(\"Standard Deviation:\", std_dev)"
      ],
      "metadata": {
        "colab": {
          "base_uri": "https://localhost:8080/"
        },
        "id": "0Tiqkww23E-z",
        "outputId": "9d90524a-b43a-41d3-ca71-0dcb9493711d"
      },
      "execution_count": 100,
      "outputs": [
        {
          "output_type": "stream",
          "name": "stdout",
          "text": [
            "Average: 4.5\n",
            "Variance: 8.25\n",
            "Standard Deviation: 2.8722813232690143\n"
          ]
        }
      ]
    },
    {
      "cell_type": "code",
      "source": [
        "#Describe a NumPy Array in Python\n",
        "arr = np.arange(10)\n",
        "\n",
        "print(\"Count:\", arr.size)\n",
        "print(\"Mean:\", np.mean(arr))\n",
        "print(\"Variance:\", np.var(arr))\n",
        "print(\"Standard Deviation:\", np.std(arr))\n",
        "print(\"Minimum:\", np.min(arr))\n",
        "print(\"Maximum:\", np.max(arr))\n",
        "print(\"25th Percentile:\", np.percentile(arr, 25))\n",
        "print(\"50th Percentile (Median):\", np.percentile(arr, 50))\n",
        "print(\"75th Percentile:\", np.percentile(arr, 75))"
      ],
      "metadata": {
        "colab": {
          "base_uri": "https://localhost:8080/"
        },
        "id": "BiiR_TLl3E5m",
        "outputId": "f6439a54-18ce-4359-8439-2daef3a155f2"
      },
      "execution_count": 99,
      "outputs": [
        {
          "output_type": "stream",
          "name": "stdout",
          "text": [
            "Count: 10\n",
            "Mean: 4.5\n",
            "Variance: 8.25\n",
            "Standard Deviation: 2.8722813232690143\n",
            "Minimum: 0\n",
            "Maximum: 9\n",
            "25th Percentile: 2.25\n",
            "50th Percentile (Median): 4.5\n",
            "75th Percentile: 6.75\n"
          ]
        }
      ]
    },
    {
      "cell_type": "markdown",
      "source": [
        "# **Questions on Polynomial**"
      ],
      "metadata": {
        "id": "Fu-z7rH01Bxl"
      }
    },
    {
      "cell_type": "code",
      "source": [
        "# Define a polynomial function\n",
        "coefficients = [1, 2, 3, 4]\n",
        "polynomial = np.poly1d(coefficients)\n",
        "\n",
        "print(polynomial)"
      ],
      "metadata": {
        "colab": {
          "base_uri": "https://localhost:8080/"
        },
        "id": "b6HDWZ4C1Hms",
        "outputId": "f4ac5158-81d7-43c8-d8ae-56981539e8e1"
      },
      "execution_count": 103,
      "outputs": [
        {
          "output_type": "stream",
          "name": "stdout",
          "text": [
            "   3     2\n",
            "1 x + 2 x + 3 x + 4\n"
          ]
        }
      ]
    },
    {
      "cell_type": "code",
      "source": [
        "#How to add one polynomial to another using NumPy in Python?\n",
        "coeffs = [1, 2, 3]\n",
        "coeffs1 = [10, 20, 30]\n",
        "\n",
        "result = np.polyadd(coeffs, coeffs1)\n",
        "print(result)"
      ],
      "metadata": {
        "colab": {
          "base_uri": "https://localhost:8080/"
        },
        "id": "azWw4sNV1Im-",
        "outputId": "453598b3-ce93-42c7-e2d9-03393f68bf2d"
      },
      "execution_count": 106,
      "outputs": [
        {
          "output_type": "stream",
          "name": "stdout",
          "text": [
            "[11 22 33]\n"
          ]
        }
      ]
    },
    {
      "cell_type": "code",
      "source": [
        "#How to subtract one polynomial to another using NumPy in Python?\n",
        "coeffs = [1, 2, 3]\n",
        "coeffs1 = [10, 20, 30]\n",
        "\n",
        "result = np.polysub(coeffs, coeffs1)\n",
        "print(result)"
      ],
      "metadata": {
        "colab": {
          "base_uri": "https://localhost:8080/"
        },
        "id": "90Yb3xDy1IiY",
        "outputId": "d5b10f93-3f1d-425c-f28e-3edb2625f62f"
      },
      "execution_count": 107,
      "outputs": [
        {
          "output_type": "stream",
          "name": "stdout",
          "text": [
            "[ -9 -18 -27]\n"
          ]
        }
      ]
    },
    {
      "cell_type": "code",
      "source": [
        "#How to multiply a polynomial to another using NumPy in Python?\n",
        "coeffs = [1, 2, 3]\n",
        "coeffs1 = [10, 20, 30]\n",
        "\n",
        "result = np.polymul(coeffs, coeffs1)\n",
        "print(result)"
      ],
      "metadata": {
        "colab": {
          "base_uri": "https://localhost:8080/"
        },
        "id": "gMGnwjS11IZv",
        "outputId": "f4525b4d-c87d-41db-e0cf-19055f54abe5"
      },
      "execution_count": 108,
      "outputs": [
        {
          "output_type": "stream",
          "name": "stdout",
          "text": [
            "[ 10  40 100 120  90]\n"
          ]
        }
      ]
    },
    {
      "cell_type": "code",
      "source": [
        "#How to divide a polynomial to another using NumPy in Python?\n",
        "coeffs = [10, 24, 36]\n",
        "coeffs1 = [1, 2, 3]\n",
        "\n",
        "quo_coeff, rest_coeff = np.polydiv(coeffs, coeffs1)\n",
        "print(\"Quo:\", quo_coeff)\n",
        "print(\"Res:\", rest_coeff)"
      ],
      "metadata": {
        "colab": {
          "base_uri": "https://localhost:8080/"
        },
        "id": "eR8BtPIo1ITD",
        "outputId": "6d1b9e31-aad0-4cbb-f1a3-61d9ab5159ed"
      },
      "execution_count": 113,
      "outputs": [
        {
          "output_type": "stream",
          "name": "stdout",
          "text": [
            "Quo: [10.]\n",
            "Res: [4. 6.]\n"
          ]
        }
      ]
    },
    {
      "cell_type": "code",
      "source": [
        "#Find the roots of the polynomials using NumPy\n",
        "coeff = [1, -3, 2]\n",
        "roots = np.roots(coeff)\n",
        "print(roots)"
      ],
      "metadata": {
        "colab": {
          "base_uri": "https://localhost:8080/"
        },
        "id": "ZK_0fhh_1ILB",
        "outputId": "4d3de5fe-1ae5-4e40-c346-bcdae7331c24"
      },
      "execution_count": 115,
      "outputs": [
        {
          "output_type": "stream",
          "name": "stdout",
          "text": [
            "[2. 1.]\n"
          ]
        }
      ]
    },
    {
      "cell_type": "code",
      "source": [
        "#Evaluate a 2-D polynomial series on the Cartesian product\n",
        "a = np.array([[5, 6, 3], [8, 3, 1], [9, 10, 4]])\n",
        "\n",
        "x = np.array([5, 6, 3])\n",
        "y = np.array([8, 3, 1])\n",
        "\n",
        "result = np.polynomial.polynomial.polyval2d(x, y, a)\n",
        "print(result)"
      ],
      "metadata": {
        "colab": {
          "base_uri": "https://localhost:8080/"
        },
        "id": "NV7Uw4xo1ICX",
        "outputId": "bb12318d-3763-4830-ce79-6c41b855d28e"
      },
      "execution_count": 120,
      "outputs": [
        {
          "output_type": "stream",
          "name": "stdout",
          "text": [
            "[9350. 2906.  257.]\n"
          ]
        }
      ]
    },
    {
      "cell_type": "code",
      "source": [
        "#Evaluate a 3-D polynomial series on the Cartesian product\n",
        "coeff = [[[5, 6],\n",
        "                 [8, 3]],\n",
        "\n",
        "                [[9, 10],\n",
        "                 [8, 4]]]\n",
        "\n",
        "x = np.array([5, 6])\n",
        "y = np.array([8, 3])\n",
        "z = np.array([9, 10])\n",
        "\n",
        "result = np.polynomial.polynomial.polyval3d(x, y, z, coeff)\n",
        "print(result)"
      ],
      "metadata": {
        "colab": {
          "base_uri": "https://localhost:8080/"
        },
        "id": "uIoGmsr11H4n",
        "outputId": "d78f1c5c-5fd3-4860-c825-fe9d0bd656dd"
      },
      "execution_count": 121,
      "outputs": [
        {
          "output_type": "stream",
          "name": "stdout",
          "text": [
            "[2594. 1697.]\n"
          ]
        }
      ]
    },
    {
      "cell_type": "markdown",
      "source": [
        "# **Questions on NumPy Strings**"
      ],
      "metadata": {
        "id": "i-PGB1WO1JNv"
      }
    },
    {
      "cell_type": "code",
      "source": [
        "#Repeat all the elements of a NumPy array of strings\n",
        "arr = np.array(['São Paulo', 'Futebol Clube'])\n",
        "result = np.repeat(arr, 2)\n",
        "print(result)"
      ],
      "metadata": {
        "colab": {
          "base_uri": "https://localhost:8080/"
        },
        "id": "A4ahoGO21Mjo",
        "outputId": "d72260d7-a5cb-453c-d133-c3f814863bc3"
      },
      "execution_count": 143,
      "outputs": [
        {
          "output_type": "stream",
          "name": "stdout",
          "text": [
            "['São Paulo' 'São Paulo' 'Futebol Clube' 'Futebol Clube']\n"
          ]
        }
      ]
    },
    {
      "cell_type": "code",
      "source": [
        "# How to split the element of a given NumPy array with spaces?\n",
        "arr = np.array(['São Paulo FC', 'Flamerda', 'Palmeiras lixo'])\n",
        "result = np.char.split(arr, sep=' ')\n",
        "print(result)"
      ],
      "metadata": {
        "colab": {
          "base_uri": "https://localhost:8080/"
        },
        "id": "Wn91iX9J1SpH",
        "outputId": "479544ea-debc-4eea-afd6-b0369ad0cdba"
      },
      "execution_count": 144,
      "outputs": [
        {
          "output_type": "stream",
          "name": "stdout",
          "text": [
            "[list(['São', 'Paulo', 'FC']) list(['Flamerda'])\n",
            " list(['Palmeiras', 'lixo'])]\n"
          ]
        }
      ]
    },
    {
      "cell_type": "code",
      "source": [
        "#How to insert a space between characters of all the elements of a given NumPy array?\n",
        "arr = np.array(['São Paulo', 'Futebol Clube'])\n",
        "result = np.char.join(' ', arr)\n",
        "print(result)"
      ],
      "metadata": {
        "colab": {
          "base_uri": "https://localhost:8080/"
        },
        "id": "nHJ22mbO1Sid",
        "outputId": "0167a9f4-b531-4446-95e7-537dc7cbd4d0"
      },
      "execution_count": 145,
      "outputs": [
        {
          "output_type": "stream",
          "name": "stdout",
          "text": [
            "['S ã o   P a u l o' 'F u t e b o l   C l u b e']\n"
          ]
        }
      ]
    },
    {
      "cell_type": "code",
      "source": [
        "# Find the length of each string element in the Numpy array\n",
        "arr = np.array(['São Paulo', 'Futebol Clube'])\n",
        "get_length = np.vectorize(len)\n",
        "lengths = get_length(arr)\n",
        "print(lengths)"
      ],
      "metadata": {
        "colab": {
          "base_uri": "https://localhost:8080/"
        },
        "id": "dsX5zTYX1SP-",
        "outputId": "439ed423-c35d-434c-e287-c7c764a1befa"
      },
      "execution_count": 146,
      "outputs": [
        {
          "output_type": "stream",
          "name": "stdout",
          "text": [
            "[ 9 13]\n"
          ]
        }
      ]
    },
    {
      "cell_type": "code",
      "source": [
        "#Swap the case of an array of string\n",
        "arr = np.array(['São Paulo', 'Futebol Clube'])\n",
        "result = np.char.swapcase(arr)\n",
        "print(result)"
      ],
      "metadata": {
        "colab": {
          "base_uri": "https://localhost:8080/"
        },
        "id": "_PGzwT-M1SIo",
        "outputId": "0b53644b-c8ce-455f-de45-758bb451b690"
      },
      "execution_count": 147,
      "outputs": [
        {
          "output_type": "stream",
          "name": "stdout",
          "text": [
            "['sÃO pAULO' 'fUTEBOL cLUBE']\n"
          ]
        }
      ]
    },
    {
      "cell_type": "code",
      "source": [
        "#Change the case to uppercase of elements of an array\n",
        "arr = np.array(['São Paulo', 'Futebol Clube'])\n",
        "result = np.char.upper(arr)\n",
        "print(result)"
      ],
      "metadata": {
        "colab": {
          "base_uri": "https://localhost:8080/"
        },
        "id": "IXV-3VWT1SDZ",
        "outputId": "bd420724-25cd-4732-b6d8-5add3fe362d0"
      },
      "execution_count": 149,
      "outputs": [
        {
          "output_type": "stream",
          "name": "stdout",
          "text": [
            "['SÃO PAULO' 'FUTEBOL CLUBE']\n"
          ]
        }
      ]
    },
    {
      "cell_type": "code",
      "source": [
        "#Change the case to lowercase of elements of an array\n",
        "arr = np.array(['São Paulo', 'Futebol Clube'])\n",
        "result = np.char.lower(arr)\n",
        "print(result)"
      ],
      "metadata": {
        "colab": {
          "base_uri": "https://localhost:8080/"
        },
        "id": "rStWlQRd1R_Z",
        "outputId": "3df53124-7eeb-4bf9-cc4e-d62149bee73b"
      },
      "execution_count": 150,
      "outputs": [
        {
          "output_type": "stream",
          "name": "stdout",
          "text": [
            "['são paulo' 'futebol clube']\n"
          ]
        }
      ]
    },
    {
      "cell_type": "code",
      "source": [
        "#Join String by a seperator\n",
        "arr = np.array(['São Paulo', 'Futebol Clube'])\n",
        "separator = ' '\n",
        "result = separator.join(arr)\n",
        "print(result)"
      ],
      "metadata": {
        "colab": {
          "base_uri": "https://localhost:8080/"
        },
        "id": "rEyaY_HM1R2b",
        "outputId": "74e07b1b-63b0-4f5b-88d6-51a1dffbccb1"
      },
      "execution_count": 151,
      "outputs": [
        {
          "output_type": "stream",
          "name": "stdout",
          "text": [
            "São Paulo Futebol Clube\n"
          ]
        }
      ]
    },
    {
      "cell_type": "code",
      "source": [
        "#Check if two same shaped string arrays one by one\n",
        "arr = np.array(['São Paulo', 'Futebol Clube'])\n",
        "arr1 = np.array(['Finado', 'Palmeiras'])\n",
        "\n",
        "are_the_same = np.array_equal(arr, arr1)\n",
        "print(are_the_same)"
      ],
      "metadata": {
        "colab": {
          "base_uri": "https://localhost:8080/"
        },
        "id": "trDsss2J1Ry4",
        "outputId": "34aba20e-3f8a-4c34-dd9c-517acb4cd75b"
      },
      "execution_count": 153,
      "outputs": [
        {
          "output_type": "stream",
          "name": "stdout",
          "text": [
            "False\n"
          ]
        }
      ]
    },
    {
      "cell_type": "code",
      "source": [
        "#Count the number of substrings in an array\n",
        "arr = np.array(['São Paulo', 'Futebol Clube', 'Futebol', 'São Paulo', 'Clube'])\n",
        "\n",
        "substring = 'São Paulo'\n",
        "counts = np.char.count(arr, substring)\n",
        "print(counts)"
      ],
      "metadata": {
        "colab": {
          "base_uri": "https://localhost:8080/"
        },
        "id": "GNsipqAG1Rvd",
        "outputId": "871364e3-1216-4fdc-a588-4292e9d4c8bc"
      },
      "execution_count": 154,
      "outputs": [
        {
          "output_type": "stream",
          "name": "stdout",
          "text": [
            "[1 0 0 1 0]\n"
          ]
        }
      ]
    },
    {
      "cell_type": "code",
      "source": [
        "#Find the lowest index of the substring in an array\n",
        "arr = np.array(['São Paulo', 'Futebol Clube'])\n",
        "\n",
        "substring = 'Futebol'\n",
        "indexes = np.char.find(arr, substring)\n",
        "print(indexes)"
      ],
      "metadata": {
        "colab": {
          "base_uri": "https://localhost:8080/"
        },
        "id": "2pJkF7bl1Rlb",
        "outputId": "02b3c339-2729-40df-e500-81707d9eb337"
      },
      "execution_count": 155,
      "outputs": [
        {
          "output_type": "stream",
          "name": "stdout",
          "text": [
            "[-1  0]\n"
          ]
        }
      ]
    },
    {
      "cell_type": "code",
      "source": [
        "#Get the boolean array when values end with a particular character\n",
        "arr = np.array(['Madrid', 'Barcelona', 'Milao', 'Munique'])\n",
        "\n",
        "character = 'a'\n",
        "ends_with_character = np.char.endswith(arr, character)\n",
        "print(ends_with_character)"
      ],
      "metadata": {
        "colab": {
          "base_uri": "https://localhost:8080/"
        },
        "id": "Ncetgwa71RiD",
        "outputId": "22cc0640-160f-455b-ce36-034cd50e7757"
      },
      "execution_count": 159,
      "outputs": [
        {
          "output_type": "stream",
          "name": "stdout",
          "text": [
            "[False  True False False]\n"
          ]
        }
      ]
    },
    {
      "cell_type": "markdown",
      "source": [
        "# **More Questions on NumPy**"
      ],
      "metadata": {
        "id": "k_Wq_gfrK5Hn"
      }
    },
    {
      "cell_type": "code",
      "source": [
        "import matplotlib.pyplot as plt"
      ],
      "metadata": {
        "id": "HWmE1osLLM7b"
      },
      "execution_count": 161,
      "outputs": []
    },
    {
      "cell_type": "code",
      "source": [
        "#Different ways to convert a Python dictionary to a NumPy array\n",
        "dic = {'a': 1, 'b': 2, 'c': 3}\n",
        "arr = np.array(list(dic.values()))\n",
        "\n",
        "print(arr)\n",
        "\n",
        "dic = {'a': 1, 'b': 2, 'c': 3}\n",
        "arr = np.fromiter(dic.values(), dtype=int)\n",
        "\n",
        "print(arr)"
      ],
      "metadata": {
        "colab": {
          "base_uri": "https://localhost:8080/"
        },
        "id": "3MCBvQ371RF_",
        "outputId": "80685e55-8afb-4571-db20-5b1402fffb4f"
      },
      "execution_count": 176,
      "outputs": [
        {
          "output_type": "stream",
          "name": "stdout",
          "text": [
            "[1 2 3]\n",
            "[1 2 3]\n"
          ]
        }
      ]
    },
    {
      "cell_type": "code",
      "source": [
        "#How to convert a list and tuple into NumPy arrays?\n",
        "list1 = [1, 2, 3]\n",
        "arr = np.array(list1)\n",
        "\n",
        "print(arr)\n",
        "\n",
        "tuple1 = (1, 2, 3)\n",
        "arr = np.array(tuple1)\n",
        "\n",
        "print(arr)"
      ],
      "metadata": {
        "colab": {
          "base_uri": "https://localhost:8080/"
        },
        "id": "I9UoF1l61RDB",
        "outputId": "8ac83c72-5ab0-4612-e940-427c9a44c747"
      },
      "execution_count": 175,
      "outputs": [
        {
          "output_type": "stream",
          "name": "stdout",
          "text": [
            "[1 2 3]\n",
            "[1 2 3]\n"
          ]
        }
      ]
    },
    {
      "cell_type": "code",
      "source": [
        "#Ways to convert array of strings to array of floats\n",
        "arr_strings = np.array(['1.2', '3.4', '5.6', '7.8'])\n",
        "arr_floats = arr_strings.astype(float)\n",
        "\n",
        "print(arr_floats)"
      ],
      "metadata": {
        "colab": {
          "base_uri": "https://localhost:8080/"
        },
        "id": "o_3wqUJ71Q7I",
        "outputId": "7e123fb4-8d88-44b7-f0d9-538b3d7ca283"
      },
      "execution_count": 174,
      "outputs": [
        {
          "output_type": "stream",
          "name": "stdout",
          "text": [
            "[1.2 3.4 5.6 7.8]\n"
          ]
        }
      ]
    },
    {
      "cell_type": "code",
      "source": [
        "# Convert a NumPy array into a csv file\n",
        "arr = np.array([[1, 2, 3],\n",
        "                [4, 5, 6],\n",
        "                [7, 8, 9]])\n",
        "\n",
        "np.savetxt('file.csv', arr, delimiter=',')"
      ],
      "metadata": {
        "id": "mn-Z_GIf1Q1r"
      },
      "execution_count": 173,
      "outputs": []
    },
    {
      "cell_type": "code",
      "source": [
        "#How to Convert an image to NumPy array and save it to CSV file using Python?\n",
        "from PIL import Image\n",
        "\n",
        "image = Image.open('Image.PNG')\n",
        "array = np.array(image)\n",
        "reshaped_array = array.reshape(-1, array.shape[-1])\n",
        "np.savetxt('image.csv', reshaped_array, delimiter=',')"
      ],
      "metadata": {
        "id": "LRgwXRiz1QyV"
      },
      "execution_count": 172,
      "outputs": []
    },
    {
      "cell_type": "code",
      "source": [
        "#How to save a NumPy array to a text file?\n",
        "arr = np.array([[1, 2, 3],\n",
        "                [4, 5, 6],\n",
        "                [7, 8, 9]])\n",
        "\n",
        "np.savetxt('output.txt', arr)"
      ],
      "metadata": {
        "id": "bkDpJG1B1Qvn"
      },
      "execution_count": 168,
      "outputs": []
    },
    {
      "cell_type": "code",
      "source": [
        "#Load data from a text file\n",
        "data = np.genfromtxt('Arq.txt', delimiter=',')\n",
        "print(data)"
      ],
      "metadata": {
        "colab": {
          "base_uri": "https://localhost:8080/"
        },
        "id": "38Uv0wzO1Qj1",
        "outputId": "e855d1ca-6acf-4ccf-8716-1b9172e0c3c6"
      },
      "execution_count": 167,
      "outputs": [
        {
          "output_type": "stream",
          "name": "stdout",
          "text": [
            "[nan nan]\n"
          ]
        }
      ]
    },
    {
      "cell_type": "code",
      "source": [
        "#Plot line graph from NumPy array\n",
        "y = np.array([1, 2, 3, 4, 5])\n",
        "x = np.array([2, 4, 6, 8, 10])\n",
        "\n",
        "plt.plot(y, x)\n",
        "plt.xlabel('Y-axis')\n",
        "plt.ylabel('X-axis')\n",
        "plt.title('Line Graph')\n",
        "\n",
        "plt.show()"
      ],
      "metadata": {
        "colab": {
          "base_uri": "https://localhost:8080/",
          "height": 472
        },
        "id": "Otbex7ZQ1Qgj",
        "outputId": "c40e871f-e2b7-483b-88a6-2f3176294a36"
      },
      "execution_count": 165,
      "outputs": [
        {
          "output_type": "display_data",
          "data": {
            "text/plain": [
              "<Figure size 640x480 with 1 Axes>"
            ],
            "image/png": "[encoded data removed]"
          },
          "metadata": {}
        }
      ]
    },
    {
      "cell_type": "code",
      "source": [
        "#Create Histogram using NumPy\n",
        "data = np.random.randn(1000)\n",
        "hist, bins = np.histogram(data, bins=10)\n",
        "\n",
        "plt.hist(data, bins=10, edgecolor='black')\n",
        "plt.xlabel('Value')\n",
        "plt.ylabel('Frequency')\n",
        "plt.title('Histogram')\n",
        "\n",
        "plt.show()"
      ],
      "metadata": {
        "colab": {
          "base_uri": "https://localhost:8080/",
          "height": 472
        },
        "id": "431_m6-t1Qd0",
        "outputId": "a3a2e554-7584-4a2b-a751-12b60e87e0eb"
      },
      "execution_count": 162,
      "outputs": [
        {
          "output_type": "display_data",
          "data": {
            "text/plain": [
              "<Figure size 640x480 with 1 Axes>"
            ],
            "image/png": "[encoded data removed]"
          },
          "metadata": {}
        }
      ]
    }
  ]
}